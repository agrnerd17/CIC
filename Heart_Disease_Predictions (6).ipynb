{
 "cells": [
  {
   "cell_type": "code",
   "execution_count": 5,
   "id": "35b6de6b",
   "metadata": {},
   "outputs": [],
   "source": [
    "import tensorflow as tf\n",
    "import pandas as pd\n",
    "import numpy as np\n",
    "\n",
    "from tensorflow.keras import layers\n",
    "import plotly.express as px\n"
   ]
  },
  {
   "cell_type": "code",
   "execution_count": 6,
   "id": "9f87b626",
   "metadata": {},
   "outputs": [],
   "source": [
    "#Makes numpy values easier to read\n",
    "np.set_printoptions(precision=3, suppress=True)"
   ]
  },
  {
   "cell_type": "code",
   "execution_count": 7,
   "id": "154bd22f",
   "metadata": {},
   "outputs": [
    {
     "data": {
      "application/vnd.plotly.v1+json": {
       "config": {
        "plotlyServerURL": "https://plot.ly"
       },
       "data": [
        {
         "alignmentgroup": "True",
         "hovertemplate": "Heart Disease=Presence<br>Sex=%{x}<br>Age=%{y}<extra></extra>",
         "legendgroup": "Presence",
         "marker": {
          "color": "#636efa",
          "pattern": {
           "shape": ""
          }
         },
         "name": "Presence",
         "offsetgroup": "Presence",
         "orientation": "v",
         "showlegend": true,
         "textposition": "auto",
         "type": "bar",
         "x": [
          1,
          1,
          1,
          1,
          1,
          0,
          1,
          1,
          1,
          1,
          1,
          1,
          1,
          1,
          1,
          1,
          1,
          1,
          1,
          1,
          1,
          1,
          0,
          1,
          1,
          0,
          1,
          0,
          1,
          0,
          1,
          1,
          1,
          1,
          1,
          1,
          1,
          0,
          1,
          1,
          1,
          1,
          1,
          1,
          1,
          1,
          1,
          0,
          1,
          0,
          0,
          1,
          0,
          1,
          1,
          1,
          1,
          1,
          1,
          0,
          1,
          1,
          1,
          1,
          1,
          1,
          1,
          1,
          1,
          1,
          1,
          0,
          1,
          0,
          1,
          1,
          1,
          1,
          0,
          1,
          1,
          1,
          0,
          1,
          1,
          1,
          1,
          1,
          1,
          1,
          1,
          1,
          1,
          1,
          1,
          1,
          1,
          1,
          1,
          0,
          0,
          0,
          1,
          1,
          0,
          1,
          1,
          0,
          1,
          1,
          1,
          1,
          1,
          1,
          1,
          1,
          1,
          1,
          1,
          1
         ],
         "xaxis": "x",
         "y": [
          70,
          57,
          56,
          59,
          60,
          63,
          61,
          46,
          53,
          67,
          58,
          57,
          59,
          50,
          48,
          61,
          59,
          40,
          59,
          49,
          44,
          66,
          65,
          42,
          61,
          59,
          62,
          51,
          57,
          58,
          47,
          61,
          45,
          58,
          35,
          58,
          50,
          61,
          54,
          54,
          52,
          47,
          58,
          67,
          57,
          63,
          48,
          60,
          59,
          55,
          60,
          46,
          56,
          56,
          49,
          54,
          57,
          62,
          60,
          63,
          66,
          64,
          56,
          64,
          50,
          54,
          53,
          52,
          40,
          58,
          55,
          66,
          38,
          62,
          58,
          65,
          69,
          67,
          62,
          51,
          46,
          67,
          56,
          41,
          56,
          70,
          70,
          35,
          77,
          58,
          60,
          51,
          55,
          64,
          59,
          58,
          54,
          65,
          63,
          62,
          43,
          61,
          39,
          52,
          62,
          43,
          68,
          62,
          60,
          65,
          60,
          60,
          54,
          44,
          55,
          64,
          60,
          58,
          48,
          67
         ],
         "yaxis": "y"
        },
        {
         "alignmentgroup": "True",
         "hovertemplate": "Heart Disease=Absence<br>Sex=%{x}<br>Age=%{y}<extra></extra>",
         "legendgroup": "Absence",
         "marker": {
          "color": "#EF553B",
          "pattern": {
           "shape": ""
          }
         },
         "name": "Absence",
         "offsetgroup": "Absence",
         "orientation": "v",
         "showlegend": true,
         "textposition": "auto",
         "type": "bar",
         "x": [
          0,
          1,
          0,
          1,
          1,
          1,
          1,
          0,
          0,
          1,
          1,
          1,
          1,
          1,
          0,
          0,
          0,
          0,
          0,
          1,
          0,
          1,
          1,
          0,
          1,
          1,
          1,
          1,
          0,
          0,
          0,
          0,
          0,
          1,
          1,
          0,
          1,
          1,
          0,
          0,
          1,
          0,
          0,
          1,
          0,
          0,
          1,
          1,
          1,
          1,
          1,
          1,
          0,
          1,
          1,
          0,
          0,
          0,
          0,
          1,
          0,
          1,
          0,
          1,
          0,
          0,
          0,
          1,
          0,
          0,
          1,
          1,
          1,
          0,
          0,
          0,
          1,
          1,
          1,
          0,
          1,
          0,
          0,
          0,
          0,
          0,
          1,
          1,
          1,
          1,
          0,
          0,
          1,
          0,
          1,
          0,
          1,
          1,
          1,
          0,
          1,
          1,
          1,
          0,
          1,
          1,
          1,
          0,
          0,
          0,
          0,
          1,
          1,
          0,
          1,
          1,
          1,
          0,
          1,
          0,
          0,
          1,
          1,
          1,
          1,
          0,
          1,
          0,
          1,
          1,
          1,
          0,
          1,
          1,
          1,
          0,
          0,
          0,
          1,
          1,
          1,
          0,
          1,
          1,
          0,
          1,
          1,
          1,
          0,
          1
         ],
         "xaxis": "x",
         "y": [
          67,
          64,
          74,
          65,
          59,
          53,
          44,
          57,
          71,
          64,
          40,
          48,
          43,
          47,
          54,
          48,
          46,
          51,
          71,
          66,
          37,
          42,
          48,
          62,
          44,
          46,
          58,
          52,
          65,
          63,
          45,
          41,
          60,
          57,
          44,
          60,
          63,
          51,
          44,
          57,
          70,
          76,
          67,
          45,
          39,
          42,
          56,
          41,
          57,
          42,
          62,
          59,
          41,
          59,
          66,
          64,
          50,
          44,
          49,
          51,
          45,
          41,
          54,
          42,
          49,
          66,
          65,
          54,
          54,
          52,
          52,
          42,
          54,
          46,
          67,
          34,
          57,
          59,
          51,
          41,
          41,
          50,
          54,
          64,
          51,
          46,
          45,
          56,
          55,
          43,
          64,
          50,
          53,
          45,
          69,
          68,
          34,
          50,
          42,
          42,
          53,
          43,
          52,
          62,
          54,
          54,
          48,
          55,
          58,
          54,
          69,
          68,
          52,
          60,
          58,
          37,
          51,
          43,
          29,
          41,
          63,
          51,
          54,
          44,
          57,
          35,
          41,
          58,
          52,
          45,
          62,
          53,
          47,
          52,
          39,
          53,
          51,
          65,
          44,
          51,
          59,
          71,
          61,
          43,
          58,
          49,
          52,
          44,
          56,
          57
         ],
         "yaxis": "y"
        }
       ],
       "layout": {
        "barmode": "relative",
        "height": 400,
        "legend": {
         "title": {
          "text": "Heart Disease"
         },
         "tracegroupgap": 0
        },
        "template": {
         "data": {
          "bar": [
           {
            "error_x": {
             "color": "#2a3f5f"
            },
            "error_y": {
             "color": "#2a3f5f"
            },
            "marker": {
             "line": {
              "color": "#E5ECF6",
              "width": 0.5
             },
             "pattern": {
              "fillmode": "overlay",
              "size": 10,
              "solidity": 0.2
             }
            },
            "type": "bar"
           }
          ],
          "barpolar": [
           {
            "marker": {
             "line": {
              "color": "#E5ECF6",
              "width": 0.5
             },
             "pattern": {
              "fillmode": "overlay",
              "size": 10,
              "solidity": 0.2
             }
            },
            "type": "barpolar"
           }
          ],
          "carpet": [
           {
            "aaxis": {
             "endlinecolor": "#2a3f5f",
             "gridcolor": "white",
             "linecolor": "white",
             "minorgridcolor": "white",
             "startlinecolor": "#2a3f5f"
            },
            "baxis": {
             "endlinecolor": "#2a3f5f",
             "gridcolor": "white",
             "linecolor": "white",
             "minorgridcolor": "white",
             "startlinecolor": "#2a3f5f"
            },
            "type": "carpet"
           }
          ],
          "choropleth": [
           {
            "colorbar": {
             "outlinewidth": 0,
             "ticks": ""
            },
            "type": "choropleth"
           }
          ],
          "contour": [
           {
            "colorbar": {
             "outlinewidth": 0,
             "ticks": ""
            },
            "colorscale": [
             [
              0,
              "#0d0887"
             ],
             [
              0.1111111111111111,
              "#46039f"
             ],
             [
              0.2222222222222222,
              "#7201a8"
             ],
             [
              0.3333333333333333,
              "#9c179e"
             ],
             [
              0.4444444444444444,
              "#bd3786"
             ],
             [
              0.5555555555555556,
              "#d8576b"
             ],
             [
              0.6666666666666666,
              "#ed7953"
             ],
             [
              0.7777777777777778,
              "#fb9f3a"
             ],
             [
              0.8888888888888888,
              "#fdca26"
             ],
             [
              1,
              "#f0f921"
             ]
            ],
            "type": "contour"
           }
          ],
          "contourcarpet": [
           {
            "colorbar": {
             "outlinewidth": 0,
             "ticks": ""
            },
            "type": "contourcarpet"
           }
          ],
          "heatmap": [
           {
            "colorbar": {
             "outlinewidth": 0,
             "ticks": ""
            },
            "colorscale": [
             [
              0,
              "#0d0887"
             ],
             [
              0.1111111111111111,
              "#46039f"
             ],
             [
              0.2222222222222222,
              "#7201a8"
             ],
             [
              0.3333333333333333,
              "#9c179e"
             ],
             [
              0.4444444444444444,
              "#bd3786"
             ],
             [
              0.5555555555555556,
              "#d8576b"
             ],
             [
              0.6666666666666666,
              "#ed7953"
             ],
             [
              0.7777777777777778,
              "#fb9f3a"
             ],
             [
              0.8888888888888888,
              "#fdca26"
             ],
             [
              1,
              "#f0f921"
             ]
            ],
            "type": "heatmap"
           }
          ],
          "heatmapgl": [
           {
            "colorbar": {
             "outlinewidth": 0,
             "ticks": ""
            },
            "colorscale": [
             [
              0,
              "#0d0887"
             ],
             [
              0.1111111111111111,
              "#46039f"
             ],
             [
              0.2222222222222222,
              "#7201a8"
             ],
             [
              0.3333333333333333,
              "#9c179e"
             ],
             [
              0.4444444444444444,
              "#bd3786"
             ],
             [
              0.5555555555555556,
              "#d8576b"
             ],
             [
              0.6666666666666666,
              "#ed7953"
             ],
             [
              0.7777777777777778,
              "#fb9f3a"
             ],
             [
              0.8888888888888888,
              "#fdca26"
             ],
             [
              1,
              "#f0f921"
             ]
            ],
            "type": "heatmapgl"
           }
          ],
          "histogram": [
           {
            "marker": {
             "pattern": {
              "fillmode": "overlay",
              "size": 10,
              "solidity": 0.2
             }
            },
            "type": "histogram"
           }
          ],
          "histogram2d": [
           {
            "colorbar": {
             "outlinewidth": 0,
             "ticks": ""
            },
            "colorscale": [
             [
              0,
              "#0d0887"
             ],
             [
              0.1111111111111111,
              "#46039f"
             ],
             [
              0.2222222222222222,
              "#7201a8"
             ],
             [
              0.3333333333333333,
              "#9c179e"
             ],
             [
              0.4444444444444444,
              "#bd3786"
             ],
             [
              0.5555555555555556,
              "#d8576b"
             ],
             [
              0.6666666666666666,
              "#ed7953"
             ],
             [
              0.7777777777777778,
              "#fb9f3a"
             ],
             [
              0.8888888888888888,
              "#fdca26"
             ],
             [
              1,
              "#f0f921"
             ]
            ],
            "type": "histogram2d"
           }
          ],
          "histogram2dcontour": [
           {
            "colorbar": {
             "outlinewidth": 0,
             "ticks": ""
            },
            "colorscale": [
             [
              0,
              "#0d0887"
             ],
             [
              0.1111111111111111,
              "#46039f"
             ],
             [
              0.2222222222222222,
              "#7201a8"
             ],
             [
              0.3333333333333333,
              "#9c179e"
             ],
             [
              0.4444444444444444,
              "#bd3786"
             ],
             [
              0.5555555555555556,
              "#d8576b"
             ],
             [
              0.6666666666666666,
              "#ed7953"
             ],
             [
              0.7777777777777778,
              "#fb9f3a"
             ],
             [
              0.8888888888888888,
              "#fdca26"
             ],
             [
              1,
              "#f0f921"
             ]
            ],
            "type": "histogram2dcontour"
           }
          ],
          "mesh3d": [
           {
            "colorbar": {
             "outlinewidth": 0,
             "ticks": ""
            },
            "type": "mesh3d"
           }
          ],
          "parcoords": [
           {
            "line": {
             "colorbar": {
              "outlinewidth": 0,
              "ticks": ""
             }
            },
            "type": "parcoords"
           }
          ],
          "pie": [
           {
            "automargin": true,
            "type": "pie"
           }
          ],
          "scatter": [
           {
            "fillpattern": {
             "fillmode": "overlay",
             "size": 10,
             "solidity": 0.2
            },
            "type": "scatter"
           }
          ],
          "scatter3d": [
           {
            "line": {
             "colorbar": {
              "outlinewidth": 0,
              "ticks": ""
             }
            },
            "marker": {
             "colorbar": {
              "outlinewidth": 0,
              "ticks": ""
             }
            },
            "type": "scatter3d"
           }
          ],
          "scattercarpet": [
           {
            "marker": {
             "colorbar": {
              "outlinewidth": 0,
              "ticks": ""
             }
            },
            "type": "scattercarpet"
           }
          ],
          "scattergeo": [
           {
            "marker": {
             "colorbar": {
              "outlinewidth": 0,
              "ticks": ""
             }
            },
            "type": "scattergeo"
           }
          ],
          "scattergl": [
           {
            "marker": {
             "colorbar": {
              "outlinewidth": 0,
              "ticks": ""
             }
            },
            "type": "scattergl"
           }
          ],
          "scattermapbox": [
           {
            "marker": {
             "colorbar": {
              "outlinewidth": 0,
              "ticks": ""
             }
            },
            "type": "scattermapbox"
           }
          ],
          "scatterpolar": [
           {
            "marker": {
             "colorbar": {
              "outlinewidth": 0,
              "ticks": ""
             }
            },
            "type": "scatterpolar"
           }
          ],
          "scatterpolargl": [
           {
            "marker": {
             "colorbar": {
              "outlinewidth": 0,
              "ticks": ""
             }
            },
            "type": "scatterpolargl"
           }
          ],
          "scatterternary": [
           {
            "marker": {
             "colorbar": {
              "outlinewidth": 0,
              "ticks": ""
             }
            },
            "type": "scatterternary"
           }
          ],
          "surface": [
           {
            "colorbar": {
             "outlinewidth": 0,
             "ticks": ""
            },
            "colorscale": [
             [
              0,
              "#0d0887"
             ],
             [
              0.1111111111111111,
              "#46039f"
             ],
             [
              0.2222222222222222,
              "#7201a8"
             ],
             [
              0.3333333333333333,
              "#9c179e"
             ],
             [
              0.4444444444444444,
              "#bd3786"
             ],
             [
              0.5555555555555556,
              "#d8576b"
             ],
             [
              0.6666666666666666,
              "#ed7953"
             ],
             [
              0.7777777777777778,
              "#fb9f3a"
             ],
             [
              0.8888888888888888,
              "#fdca26"
             ],
             [
              1,
              "#f0f921"
             ]
            ],
            "type": "surface"
           }
          ],
          "table": [
           {
            "cells": {
             "fill": {
              "color": "#EBF0F8"
             },
             "line": {
              "color": "white"
             }
            },
            "header": {
             "fill": {
              "color": "#C8D4E3"
             },
             "line": {
              "color": "white"
             }
            },
            "type": "table"
           }
          ]
         },
         "layout": {
          "annotationdefaults": {
           "arrowcolor": "#2a3f5f",
           "arrowhead": 0,
           "arrowwidth": 1
          },
          "autotypenumbers": "strict",
          "coloraxis": {
           "colorbar": {
            "outlinewidth": 0,
            "ticks": ""
           }
          },
          "colorscale": {
           "diverging": [
            [
             0,
             "#8e0152"
            ],
            [
             0.1,
             "#c51b7d"
            ],
            [
             0.2,
             "#de77ae"
            ],
            [
             0.3,
             "#f1b6da"
            ],
            [
             0.4,
             "#fde0ef"
            ],
            [
             0.5,
             "#f7f7f7"
            ],
            [
             0.6,
             "#e6f5d0"
            ],
            [
             0.7,
             "#b8e186"
            ],
            [
             0.8,
             "#7fbc41"
            ],
            [
             0.9,
             "#4d9221"
            ],
            [
             1,
             "#276419"
            ]
           ],
           "sequential": [
            [
             0,
             "#0d0887"
            ],
            [
             0.1111111111111111,
             "#46039f"
            ],
            [
             0.2222222222222222,
             "#7201a8"
            ],
            [
             0.3333333333333333,
             "#9c179e"
            ],
            [
             0.4444444444444444,
             "#bd3786"
            ],
            [
             0.5555555555555556,
             "#d8576b"
            ],
            [
             0.6666666666666666,
             "#ed7953"
            ],
            [
             0.7777777777777778,
             "#fb9f3a"
            ],
            [
             0.8888888888888888,
             "#fdca26"
            ],
            [
             1,
             "#f0f921"
            ]
           ],
           "sequentialminus": [
            [
             0,
             "#0d0887"
            ],
            [
             0.1111111111111111,
             "#46039f"
            ],
            [
             0.2222222222222222,
             "#7201a8"
            ],
            [
             0.3333333333333333,
             "#9c179e"
            ],
            [
             0.4444444444444444,
             "#bd3786"
            ],
            [
             0.5555555555555556,
             "#d8576b"
            ],
            [
             0.6666666666666666,
             "#ed7953"
            ],
            [
             0.7777777777777778,
             "#fb9f3a"
            ],
            [
             0.8888888888888888,
             "#fdca26"
            ],
            [
             1,
             "#f0f921"
            ]
           ]
          },
          "colorway": [
           "#636efa",
           "#EF553B",
           "#00cc96",
           "#ab63fa",
           "#FFA15A",
           "#19d3f3",
           "#FF6692",
           "#B6E880",
           "#FF97FF",
           "#FECB52"
          ],
          "font": {
           "color": "#2a3f5f"
          },
          "geo": {
           "bgcolor": "white",
           "lakecolor": "white",
           "landcolor": "#E5ECF6",
           "showlakes": true,
           "showland": true,
           "subunitcolor": "white"
          },
          "hoverlabel": {
           "align": "left"
          },
          "hovermode": "closest",
          "mapbox": {
           "style": "light"
          },
          "paper_bgcolor": "white",
          "plot_bgcolor": "#E5ECF6",
          "polar": {
           "angularaxis": {
            "gridcolor": "white",
            "linecolor": "white",
            "ticks": ""
           },
           "bgcolor": "#E5ECF6",
           "radialaxis": {
            "gridcolor": "white",
            "linecolor": "white",
            "ticks": ""
           }
          },
          "scene": {
           "xaxis": {
            "backgroundcolor": "#E5ECF6",
            "gridcolor": "white",
            "gridwidth": 2,
            "linecolor": "white",
            "showbackground": true,
            "ticks": "",
            "zerolinecolor": "white"
           },
           "yaxis": {
            "backgroundcolor": "#E5ECF6",
            "gridcolor": "white",
            "gridwidth": 2,
            "linecolor": "white",
            "showbackground": true,
            "ticks": "",
            "zerolinecolor": "white"
           },
           "zaxis": {
            "backgroundcolor": "#E5ECF6",
            "gridcolor": "white",
            "gridwidth": 2,
            "linecolor": "white",
            "showbackground": true,
            "ticks": "",
            "zerolinecolor": "white"
           }
          },
          "shapedefaults": {
           "line": {
            "color": "#2a3f5f"
           }
          },
          "ternary": {
           "aaxis": {
            "gridcolor": "white",
            "linecolor": "white",
            "ticks": ""
           },
           "baxis": {
            "gridcolor": "white",
            "linecolor": "white",
            "ticks": ""
           },
           "bgcolor": "#E5ECF6",
           "caxis": {
            "gridcolor": "white",
            "linecolor": "white",
            "ticks": ""
           }
          },
          "title": {
           "x": 0.05
          },
          "xaxis": {
           "automargin": true,
           "gridcolor": "white",
           "linecolor": "white",
           "ticks": "",
           "title": {
            "standoff": 15
           },
           "zerolinecolor": "white",
           "zerolinewidth": 2
          },
          "yaxis": {
           "automargin": true,
           "gridcolor": "white",
           "linecolor": "white",
           "ticks": "",
           "title": {
            "standoff": 15
           },
           "zerolinecolor": "white",
           "zerolinewidth": 2
          }
         }
        },
        "title": {
         "text": "Heart disease in patients"
        },
        "xaxis": {
         "anchor": "y",
         "domain": [
          0,
          1
         ],
         "title": {
          "text": "Sex"
         }
        },
        "yaxis": {
         "anchor": "x",
         "domain": [
          0,
          1
         ],
         "title": {
          "text": "Age"
         }
        }
       }
      },
      "text/html": [
       "<div>                            <div id=\"350f5662-d296-453f-80fe-87dd0a467205\" class=\"plotly-graph-div\" style=\"height:400px; width:100%;\"></div>            <script type=\"text/javascript\">                require([\"plotly\"], function(Plotly) {                    window.PLOTLYENV=window.PLOTLYENV || {};                                    if (document.getElementById(\"350f5662-d296-453f-80fe-87dd0a467205\")) {                    Plotly.newPlot(                        \"350f5662-d296-453f-80fe-87dd0a467205\",                        [{\"alignmentgroup\":\"True\",\"hovertemplate\":\"Heart Disease=Presence\\u003cbr\\u003eSex=%{x}\\u003cbr\\u003eAge=%{y}\\u003cextra\\u003e\\u003c\\u002fextra\\u003e\",\"legendgroup\":\"Presence\",\"marker\":{\"color\":\"#636efa\",\"pattern\":{\"shape\":\"\"}},\"name\":\"Presence\",\"offsetgroup\":\"Presence\",\"orientation\":\"v\",\"showlegend\":true,\"textposition\":\"auto\",\"x\":[1,1,1,1,1,0,1,1,1,1,1,1,1,1,1,1,1,1,1,1,1,1,0,1,1,0,1,0,1,0,1,1,1,1,1,1,1,0,1,1,1,1,1,1,1,1,1,0,1,0,0,1,0,1,1,1,1,1,1,0,1,1,1,1,1,1,1,1,1,1,1,0,1,0,1,1,1,1,0,1,1,1,0,1,1,1,1,1,1,1,1,1,1,1,1,1,1,1,1,0,0,0,1,1,0,1,1,0,1,1,1,1,1,1,1,1,1,1,1,1],\"xaxis\":\"x\",\"y\":[70,57,56,59,60,63,61,46,53,67,58,57,59,50,48,61,59,40,59,49,44,66,65,42,61,59,62,51,57,58,47,61,45,58,35,58,50,61,54,54,52,47,58,67,57,63,48,60,59,55,60,46,56,56,49,54,57,62,60,63,66,64,56,64,50,54,53,52,40,58,55,66,38,62,58,65,69,67,62,51,46,67,56,41,56,70,70,35,77,58,60,51,55,64,59,58,54,65,63,62,43,61,39,52,62,43,68,62,60,65,60,60,54,44,55,64,60,58,48,67],\"yaxis\":\"y\",\"type\":\"bar\"},{\"alignmentgroup\":\"True\",\"hovertemplate\":\"Heart Disease=Absence\\u003cbr\\u003eSex=%{x}\\u003cbr\\u003eAge=%{y}\\u003cextra\\u003e\\u003c\\u002fextra\\u003e\",\"legendgroup\":\"Absence\",\"marker\":{\"color\":\"#EF553B\",\"pattern\":{\"shape\":\"\"}},\"name\":\"Absence\",\"offsetgroup\":\"Absence\",\"orientation\":\"v\",\"showlegend\":true,\"textposition\":\"auto\",\"x\":[0,1,0,1,1,1,1,0,0,1,1,1,1,1,0,0,0,0,0,1,0,1,1,0,1,1,1,1,0,0,0,0,0,1,1,0,1,1,0,0,1,0,0,1,0,0,1,1,1,1,1,1,0,1,1,0,0,0,0,1,0,1,0,1,0,0,0,1,0,0,1,1,1,0,0,0,1,1,1,0,1,0,0,0,0,0,1,1,1,1,0,0,1,0,1,0,1,1,1,0,1,1,1,0,1,1,1,0,0,0,0,1,1,0,1,1,1,0,1,0,0,1,1,1,1,0,1,0,1,1,1,0,1,1,1,0,0,0,1,1,1,0,1,1,0,1,1,1,0,1],\"xaxis\":\"x\",\"y\":[67,64,74,65,59,53,44,57,71,64,40,48,43,47,54,48,46,51,71,66,37,42,48,62,44,46,58,52,65,63,45,41,60,57,44,60,63,51,44,57,70,76,67,45,39,42,56,41,57,42,62,59,41,59,66,64,50,44,49,51,45,41,54,42,49,66,65,54,54,52,52,42,54,46,67,34,57,59,51,41,41,50,54,64,51,46,45,56,55,43,64,50,53,45,69,68,34,50,42,42,53,43,52,62,54,54,48,55,58,54,69,68,52,60,58,37,51,43,29,41,63,51,54,44,57,35,41,58,52,45,62,53,47,52,39,53,51,65,44,51,59,71,61,43,58,49,52,44,56,57],\"yaxis\":\"y\",\"type\":\"bar\"}],                        {\"template\":{\"data\":{\"histogram2dcontour\":[{\"type\":\"histogram2dcontour\",\"colorbar\":{\"outlinewidth\":0,\"ticks\":\"\"},\"colorscale\":[[0.0,\"#0d0887\"],[0.1111111111111111,\"#46039f\"],[0.2222222222222222,\"#7201a8\"],[0.3333333333333333,\"#9c179e\"],[0.4444444444444444,\"#bd3786\"],[0.5555555555555556,\"#d8576b\"],[0.6666666666666666,\"#ed7953\"],[0.7777777777777778,\"#fb9f3a\"],[0.8888888888888888,\"#fdca26\"],[1.0,\"#f0f921\"]]}],\"choropleth\":[{\"type\":\"choropleth\",\"colorbar\":{\"outlinewidth\":0,\"ticks\":\"\"}}],\"histogram2d\":[{\"type\":\"histogram2d\",\"colorbar\":{\"outlinewidth\":0,\"ticks\":\"\"},\"colorscale\":[[0.0,\"#0d0887\"],[0.1111111111111111,\"#46039f\"],[0.2222222222222222,\"#7201a8\"],[0.3333333333333333,\"#9c179e\"],[0.4444444444444444,\"#bd3786\"],[0.5555555555555556,\"#d8576b\"],[0.6666666666666666,\"#ed7953\"],[0.7777777777777778,\"#fb9f3a\"],[0.8888888888888888,\"#fdca26\"],[1.0,\"#f0f921\"]]}],\"heatmap\":[{\"type\":\"heatmap\",\"colorbar\":{\"outlinewidth\":0,\"ticks\":\"\"},\"colorscale\":[[0.0,\"#0d0887\"],[0.1111111111111111,\"#46039f\"],[0.2222222222222222,\"#7201a8\"],[0.3333333333333333,\"#9c179e\"],[0.4444444444444444,\"#bd3786\"],[0.5555555555555556,\"#d8576b\"],[0.6666666666666666,\"#ed7953\"],[0.7777777777777778,\"#fb9f3a\"],[0.8888888888888888,\"#fdca26\"],[1.0,\"#f0f921\"]]}],\"heatmapgl\":[{\"type\":\"heatmapgl\",\"colorbar\":{\"outlinewidth\":0,\"ticks\":\"\"},\"colorscale\":[[0.0,\"#0d0887\"],[0.1111111111111111,\"#46039f\"],[0.2222222222222222,\"#7201a8\"],[0.3333333333333333,\"#9c179e\"],[0.4444444444444444,\"#bd3786\"],[0.5555555555555556,\"#d8576b\"],[0.6666666666666666,\"#ed7953\"],[0.7777777777777778,\"#fb9f3a\"],[0.8888888888888888,\"#fdca26\"],[1.0,\"#f0f921\"]]}],\"contourcarpet\":[{\"type\":\"contourcarpet\",\"colorbar\":{\"outlinewidth\":0,\"ticks\":\"\"}}],\"contour\":[{\"type\":\"contour\",\"colorbar\":{\"outlinewidth\":0,\"ticks\":\"\"},\"colorscale\":[[0.0,\"#0d0887\"],[0.1111111111111111,\"#46039f\"],[0.2222222222222222,\"#7201a8\"],[0.3333333333333333,\"#9c179e\"],[0.4444444444444444,\"#bd3786\"],[0.5555555555555556,\"#d8576b\"],[0.6666666666666666,\"#ed7953\"],[0.7777777777777778,\"#fb9f3a\"],[0.8888888888888888,\"#fdca26\"],[1.0,\"#f0f921\"]]}],\"surface\":[{\"type\":\"surface\",\"colorbar\":{\"outlinewidth\":0,\"ticks\":\"\"},\"colorscale\":[[0.0,\"#0d0887\"],[0.1111111111111111,\"#46039f\"],[0.2222222222222222,\"#7201a8\"],[0.3333333333333333,\"#9c179e\"],[0.4444444444444444,\"#bd3786\"],[0.5555555555555556,\"#d8576b\"],[0.6666666666666666,\"#ed7953\"],[0.7777777777777778,\"#fb9f3a\"],[0.8888888888888888,\"#fdca26\"],[1.0,\"#f0f921\"]]}],\"mesh3d\":[{\"type\":\"mesh3d\",\"colorbar\":{\"outlinewidth\":0,\"ticks\":\"\"}}],\"scatter\":[{\"fillpattern\":{\"fillmode\":\"overlay\",\"size\":10,\"solidity\":0.2},\"type\":\"scatter\"}],\"parcoords\":[{\"type\":\"parcoords\",\"line\":{\"colorbar\":{\"outlinewidth\":0,\"ticks\":\"\"}}}],\"scatterpolargl\":[{\"type\":\"scatterpolargl\",\"marker\":{\"colorbar\":{\"outlinewidth\":0,\"ticks\":\"\"}}}],\"bar\":[{\"error_x\":{\"color\":\"#2a3f5f\"},\"error_y\":{\"color\":\"#2a3f5f\"},\"marker\":{\"line\":{\"color\":\"#E5ECF6\",\"width\":0.5},\"pattern\":{\"fillmode\":\"overlay\",\"size\":10,\"solidity\":0.2}},\"type\":\"bar\"}],\"scattergeo\":[{\"type\":\"scattergeo\",\"marker\":{\"colorbar\":{\"outlinewidth\":0,\"ticks\":\"\"}}}],\"scatterpolar\":[{\"type\":\"scatterpolar\",\"marker\":{\"colorbar\":{\"outlinewidth\":0,\"ticks\":\"\"}}}],\"histogram\":[{\"marker\":{\"pattern\":{\"fillmode\":\"overlay\",\"size\":10,\"solidity\":0.2}},\"type\":\"histogram\"}],\"scattergl\":[{\"type\":\"scattergl\",\"marker\":{\"colorbar\":{\"outlinewidth\":0,\"ticks\":\"\"}}}],\"scatter3d\":[{\"type\":\"scatter3d\",\"line\":{\"colorbar\":{\"outlinewidth\":0,\"ticks\":\"\"}},\"marker\":{\"colorbar\":{\"outlinewidth\":0,\"ticks\":\"\"}}}],\"scattermapbox\":[{\"type\":\"scattermapbox\",\"marker\":{\"colorbar\":{\"outlinewidth\":0,\"ticks\":\"\"}}}],\"scatterternary\":[{\"type\":\"scatterternary\",\"marker\":{\"colorbar\":{\"outlinewidth\":0,\"ticks\":\"\"}}}],\"scattercarpet\":[{\"type\":\"scattercarpet\",\"marker\":{\"colorbar\":{\"outlinewidth\":0,\"ticks\":\"\"}}}],\"carpet\":[{\"aaxis\":{\"endlinecolor\":\"#2a3f5f\",\"gridcolor\":\"white\",\"linecolor\":\"white\",\"minorgridcolor\":\"white\",\"startlinecolor\":\"#2a3f5f\"},\"baxis\":{\"endlinecolor\":\"#2a3f5f\",\"gridcolor\":\"white\",\"linecolor\":\"white\",\"minorgridcolor\":\"white\",\"startlinecolor\":\"#2a3f5f\"},\"type\":\"carpet\"}],\"table\":[{\"cells\":{\"fill\":{\"color\":\"#EBF0F8\"},\"line\":{\"color\":\"white\"}},\"header\":{\"fill\":{\"color\":\"#C8D4E3\"},\"line\":{\"color\":\"white\"}},\"type\":\"table\"}],\"barpolar\":[{\"marker\":{\"line\":{\"color\":\"#E5ECF6\",\"width\":0.5},\"pattern\":{\"fillmode\":\"overlay\",\"size\":10,\"solidity\":0.2}},\"type\":\"barpolar\"}],\"pie\":[{\"automargin\":true,\"type\":\"pie\"}]},\"layout\":{\"autotypenumbers\":\"strict\",\"colorway\":[\"#636efa\",\"#EF553B\",\"#00cc96\",\"#ab63fa\",\"#FFA15A\",\"#19d3f3\",\"#FF6692\",\"#B6E880\",\"#FF97FF\",\"#FECB52\"],\"font\":{\"color\":\"#2a3f5f\"},\"hovermode\":\"closest\",\"hoverlabel\":{\"align\":\"left\"},\"paper_bgcolor\":\"white\",\"plot_bgcolor\":\"#E5ECF6\",\"polar\":{\"bgcolor\":\"#E5ECF6\",\"angularaxis\":{\"gridcolor\":\"white\",\"linecolor\":\"white\",\"ticks\":\"\"},\"radialaxis\":{\"gridcolor\":\"white\",\"linecolor\":\"white\",\"ticks\":\"\"}},\"ternary\":{\"bgcolor\":\"#E5ECF6\",\"aaxis\":{\"gridcolor\":\"white\",\"linecolor\":\"white\",\"ticks\":\"\"},\"baxis\":{\"gridcolor\":\"white\",\"linecolor\":\"white\",\"ticks\":\"\"},\"caxis\":{\"gridcolor\":\"white\",\"linecolor\":\"white\",\"ticks\":\"\"}},\"coloraxis\":{\"colorbar\":{\"outlinewidth\":0,\"ticks\":\"\"}},\"colorscale\":{\"sequential\":[[0.0,\"#0d0887\"],[0.1111111111111111,\"#46039f\"],[0.2222222222222222,\"#7201a8\"],[0.3333333333333333,\"#9c179e\"],[0.4444444444444444,\"#bd3786\"],[0.5555555555555556,\"#d8576b\"],[0.6666666666666666,\"#ed7953\"],[0.7777777777777778,\"#fb9f3a\"],[0.8888888888888888,\"#fdca26\"],[1.0,\"#f0f921\"]],\"sequentialminus\":[[0.0,\"#0d0887\"],[0.1111111111111111,\"#46039f\"],[0.2222222222222222,\"#7201a8\"],[0.3333333333333333,\"#9c179e\"],[0.4444444444444444,\"#bd3786\"],[0.5555555555555556,\"#d8576b\"],[0.6666666666666666,\"#ed7953\"],[0.7777777777777778,\"#fb9f3a\"],[0.8888888888888888,\"#fdca26\"],[1.0,\"#f0f921\"]],\"diverging\":[[0,\"#8e0152\"],[0.1,\"#c51b7d\"],[0.2,\"#de77ae\"],[0.3,\"#f1b6da\"],[0.4,\"#fde0ef\"],[0.5,\"#f7f7f7\"],[0.6,\"#e6f5d0\"],[0.7,\"#b8e186\"],[0.8,\"#7fbc41\"],[0.9,\"#4d9221\"],[1,\"#276419\"]]},\"xaxis\":{\"gridcolor\":\"white\",\"linecolor\":\"white\",\"ticks\":\"\",\"title\":{\"standoff\":15},\"zerolinecolor\":\"white\",\"automargin\":true,\"zerolinewidth\":2},\"yaxis\":{\"gridcolor\":\"white\",\"linecolor\":\"white\",\"ticks\":\"\",\"title\":{\"standoff\":15},\"zerolinecolor\":\"white\",\"automargin\":true,\"zerolinewidth\":2},\"scene\":{\"xaxis\":{\"backgroundcolor\":\"#E5ECF6\",\"gridcolor\":\"white\",\"linecolor\":\"white\",\"showbackground\":true,\"ticks\":\"\",\"zerolinecolor\":\"white\",\"gridwidth\":2},\"yaxis\":{\"backgroundcolor\":\"#E5ECF6\",\"gridcolor\":\"white\",\"linecolor\":\"white\",\"showbackground\":true,\"ticks\":\"\",\"zerolinecolor\":\"white\",\"gridwidth\":2},\"zaxis\":{\"backgroundcolor\":\"#E5ECF6\",\"gridcolor\":\"white\",\"linecolor\":\"white\",\"showbackground\":true,\"ticks\":\"\",\"zerolinecolor\":\"white\",\"gridwidth\":2}},\"shapedefaults\":{\"line\":{\"color\":\"#2a3f5f\"}},\"annotationdefaults\":{\"arrowcolor\":\"#2a3f5f\",\"arrowhead\":0,\"arrowwidth\":1},\"geo\":{\"bgcolor\":\"white\",\"landcolor\":\"#E5ECF6\",\"subunitcolor\":\"white\",\"showland\":true,\"showlakes\":true,\"lakecolor\":\"white\"},\"title\":{\"x\":0.05},\"mapbox\":{\"style\":\"light\"}}},\"xaxis\":{\"anchor\":\"y\",\"domain\":[0.0,1.0],\"title\":{\"text\":\"Sex\"}},\"yaxis\":{\"anchor\":\"x\",\"domain\":[0.0,1.0],\"title\":{\"text\":\"Age\"}},\"legend\":{\"title\":{\"text\":\"Heart Disease\"},\"tracegroupgap\":0},\"title\":{\"text\":\"Heart disease in patients\"},\"barmode\":\"relative\",\"height\":400},                        {\"responsive\": true}                    ).then(function(){\n",
       "                            \n",
       "var gd = document.getElementById('350f5662-d296-453f-80fe-87dd0a467205');\n",
       "var x = new MutationObserver(function (mutations, observer) {{\n",
       "        var display = window.getComputedStyle(gd).display;\n",
       "        if (!display || display === 'none') {{\n",
       "            console.log([gd, 'removed!']);\n",
       "            Plotly.purge(gd);\n",
       "            observer.disconnect();\n",
       "        }}\n",
       "}});\n",
       "\n",
       "// Listen for the removal of the full notebook cells\n",
       "var notebookContainer = gd.closest('#notebook-container');\n",
       "if (notebookContainer) {{\n",
       "    x.observe(notebookContainer, {childList: true});\n",
       "}}\n",
       "\n",
       "// Listen for the clearing of the current output cell\n",
       "var outputEl = gd.closest('.output');\n",
       "if (outputEl) {{\n",
       "    x.observe(outputEl, {childList: true});\n",
       "}}\n",
       "\n",
       "                        })                };                });            </script>        </div>"
      ]
     },
     "metadata": {},
     "output_type": "display_data"
    }
   ],
   "source": [
    "#Read data into pandas DataFrame\n",
    "dataframe = pd.read_csv(r\"C:\\Users\\ameli\\OneDrive\\Desktop\\heart_disease\\Heart_Disease_Prediction.csv\")\n",
    "#Plot data using plotly\n",
    "#explicitly construct a color sequence\n",
    "#bar graph\n",
    "fig = px.bar(dataframe, x=\"Sex\", y=\"Age\", height=400, color=\"Heart Disease\", title=\"Heart disease in patients\")\n",
    "fig.show()\n",
    "\n"
   ]
  },
  {
   "cell_type": "code",
   "execution_count": 8,
   "id": "274ae51c",
   "metadata": {},
   "outputs": [
    {
     "data": {
      "text/html": [
       "<div>\n",
       "<style scoped>\n",
       "    .dataframe tbody tr th:only-of-type {\n",
       "        vertical-align: middle;\n",
       "    }\n",
       "\n",
       "    .dataframe tbody tr th {\n",
       "        vertical-align: top;\n",
       "    }\n",
       "\n",
       "    .dataframe thead th {\n",
       "        text-align: right;\n",
       "    }\n",
       "</style>\n",
       "<table border=\"1\" class=\"dataframe\">\n",
       "  <thead>\n",
       "    <tr style=\"text-align: right;\">\n",
       "      <th></th>\n",
       "      <th>Age</th>\n",
       "      <th>Sex</th>\n",
       "      <th>Chest pain type</th>\n",
       "      <th>BP</th>\n",
       "      <th>Cholesterol</th>\n",
       "      <th>FBS over 120</th>\n",
       "      <th>EKG results</th>\n",
       "      <th>Max HR</th>\n",
       "      <th>Exercise angina</th>\n",
       "      <th>ST depression</th>\n",
       "      <th>Slope of ST</th>\n",
       "      <th>Number of vessels fluro</th>\n",
       "      <th>Thallium</th>\n",
       "      <th>Heart Disease</th>\n",
       "    </tr>\n",
       "  </thead>\n",
       "  <tbody>\n",
       "    <tr>\n",
       "      <th>0</th>\n",
       "      <td>70</td>\n",
       "      <td>1</td>\n",
       "      <td>4</td>\n",
       "      <td>130</td>\n",
       "      <td>322</td>\n",
       "      <td>0</td>\n",
       "      <td>2</td>\n",
       "      <td>109</td>\n",
       "      <td>0</td>\n",
       "      <td>2.4</td>\n",
       "      <td>2</td>\n",
       "      <td>3</td>\n",
       "      <td>3</td>\n",
       "      <td>Presence</td>\n",
       "    </tr>\n",
       "    <tr>\n",
       "      <th>1</th>\n",
       "      <td>67</td>\n",
       "      <td>0</td>\n",
       "      <td>3</td>\n",
       "      <td>115</td>\n",
       "      <td>564</td>\n",
       "      <td>0</td>\n",
       "      <td>2</td>\n",
       "      <td>160</td>\n",
       "      <td>0</td>\n",
       "      <td>1.6</td>\n",
       "      <td>2</td>\n",
       "      <td>0</td>\n",
       "      <td>7</td>\n",
       "      <td>Absence</td>\n",
       "    </tr>\n",
       "    <tr>\n",
       "      <th>2</th>\n",
       "      <td>57</td>\n",
       "      <td>1</td>\n",
       "      <td>2</td>\n",
       "      <td>124</td>\n",
       "      <td>261</td>\n",
       "      <td>0</td>\n",
       "      <td>0</td>\n",
       "      <td>141</td>\n",
       "      <td>0</td>\n",
       "      <td>0.3</td>\n",
       "      <td>1</td>\n",
       "      <td>0</td>\n",
       "      <td>7</td>\n",
       "      <td>Presence</td>\n",
       "    </tr>\n",
       "    <tr>\n",
       "      <th>3</th>\n",
       "      <td>64</td>\n",
       "      <td>1</td>\n",
       "      <td>4</td>\n",
       "      <td>128</td>\n",
       "      <td>263</td>\n",
       "      <td>0</td>\n",
       "      <td>0</td>\n",
       "      <td>105</td>\n",
       "      <td>1</td>\n",
       "      <td>0.2</td>\n",
       "      <td>2</td>\n",
       "      <td>1</td>\n",
       "      <td>7</td>\n",
       "      <td>Absence</td>\n",
       "    </tr>\n",
       "    <tr>\n",
       "      <th>4</th>\n",
       "      <td>74</td>\n",
       "      <td>0</td>\n",
       "      <td>2</td>\n",
       "      <td>120</td>\n",
       "      <td>269</td>\n",
       "      <td>0</td>\n",
       "      <td>2</td>\n",
       "      <td>121</td>\n",
       "      <td>1</td>\n",
       "      <td>0.2</td>\n",
       "      <td>1</td>\n",
       "      <td>1</td>\n",
       "      <td>3</td>\n",
       "      <td>Absence</td>\n",
       "    </tr>\n",
       "    <tr>\n",
       "      <th>5</th>\n",
       "      <td>65</td>\n",
       "      <td>1</td>\n",
       "      <td>4</td>\n",
       "      <td>120</td>\n",
       "      <td>177</td>\n",
       "      <td>0</td>\n",
       "      <td>0</td>\n",
       "      <td>140</td>\n",
       "      <td>0</td>\n",
       "      <td>0.4</td>\n",
       "      <td>1</td>\n",
       "      <td>0</td>\n",
       "      <td>7</td>\n",
       "      <td>Absence</td>\n",
       "    </tr>\n",
       "    <tr>\n",
       "      <th>6</th>\n",
       "      <td>56</td>\n",
       "      <td>1</td>\n",
       "      <td>3</td>\n",
       "      <td>130</td>\n",
       "      <td>256</td>\n",
       "      <td>1</td>\n",
       "      <td>2</td>\n",
       "      <td>142</td>\n",
       "      <td>1</td>\n",
       "      <td>0.6</td>\n",
       "      <td>2</td>\n",
       "      <td>1</td>\n",
       "      <td>6</td>\n",
       "      <td>Presence</td>\n",
       "    </tr>\n",
       "    <tr>\n",
       "      <th>7</th>\n",
       "      <td>59</td>\n",
       "      <td>1</td>\n",
       "      <td>4</td>\n",
       "      <td>110</td>\n",
       "      <td>239</td>\n",
       "      <td>0</td>\n",
       "      <td>2</td>\n",
       "      <td>142</td>\n",
       "      <td>1</td>\n",
       "      <td>1.2</td>\n",
       "      <td>2</td>\n",
       "      <td>1</td>\n",
       "      <td>7</td>\n",
       "      <td>Presence</td>\n",
       "    </tr>\n",
       "    <tr>\n",
       "      <th>8</th>\n",
       "      <td>60</td>\n",
       "      <td>1</td>\n",
       "      <td>4</td>\n",
       "      <td>140</td>\n",
       "      <td>293</td>\n",
       "      <td>0</td>\n",
       "      <td>2</td>\n",
       "      <td>170</td>\n",
       "      <td>0</td>\n",
       "      <td>1.2</td>\n",
       "      <td>2</td>\n",
       "      <td>2</td>\n",
       "      <td>7</td>\n",
       "      <td>Presence</td>\n",
       "    </tr>\n",
       "    <tr>\n",
       "      <th>9</th>\n",
       "      <td>63</td>\n",
       "      <td>0</td>\n",
       "      <td>4</td>\n",
       "      <td>150</td>\n",
       "      <td>407</td>\n",
       "      <td>0</td>\n",
       "      <td>2</td>\n",
       "      <td>154</td>\n",
       "      <td>0</td>\n",
       "      <td>4.0</td>\n",
       "      <td>2</td>\n",
       "      <td>3</td>\n",
       "      <td>7</td>\n",
       "      <td>Presence</td>\n",
       "    </tr>\n",
       "    <tr>\n",
       "      <th>10</th>\n",
       "      <td>59</td>\n",
       "      <td>1</td>\n",
       "      <td>4</td>\n",
       "      <td>135</td>\n",
       "      <td>234</td>\n",
       "      <td>0</td>\n",
       "      <td>0</td>\n",
       "      <td>161</td>\n",
       "      <td>0</td>\n",
       "      <td>0.5</td>\n",
       "      <td>2</td>\n",
       "      <td>0</td>\n",
       "      <td>7</td>\n",
       "      <td>Absence</td>\n",
       "    </tr>\n",
       "    <tr>\n",
       "      <th>11</th>\n",
       "      <td>53</td>\n",
       "      <td>1</td>\n",
       "      <td>4</td>\n",
       "      <td>142</td>\n",
       "      <td>226</td>\n",
       "      <td>0</td>\n",
       "      <td>2</td>\n",
       "      <td>111</td>\n",
       "      <td>1</td>\n",
       "      <td>0.0</td>\n",
       "      <td>1</td>\n",
       "      <td>0</td>\n",
       "      <td>7</td>\n",
       "      <td>Absence</td>\n",
       "    </tr>\n",
       "    <tr>\n",
       "      <th>12</th>\n",
       "      <td>44</td>\n",
       "      <td>1</td>\n",
       "      <td>3</td>\n",
       "      <td>140</td>\n",
       "      <td>235</td>\n",
       "      <td>0</td>\n",
       "      <td>2</td>\n",
       "      <td>180</td>\n",
       "      <td>0</td>\n",
       "      <td>0.0</td>\n",
       "      <td>1</td>\n",
       "      <td>0</td>\n",
       "      <td>3</td>\n",
       "      <td>Absence</td>\n",
       "    </tr>\n",
       "    <tr>\n",
       "      <th>13</th>\n",
       "      <td>61</td>\n",
       "      <td>1</td>\n",
       "      <td>1</td>\n",
       "      <td>134</td>\n",
       "      <td>234</td>\n",
       "      <td>0</td>\n",
       "      <td>0</td>\n",
       "      <td>145</td>\n",
       "      <td>0</td>\n",
       "      <td>2.6</td>\n",
       "      <td>2</td>\n",
       "      <td>2</td>\n",
       "      <td>3</td>\n",
       "      <td>Presence</td>\n",
       "    </tr>\n",
       "    <tr>\n",
       "      <th>14</th>\n",
       "      <td>57</td>\n",
       "      <td>0</td>\n",
       "      <td>4</td>\n",
       "      <td>128</td>\n",
       "      <td>303</td>\n",
       "      <td>0</td>\n",
       "      <td>2</td>\n",
       "      <td>159</td>\n",
       "      <td>0</td>\n",
       "      <td>0.0</td>\n",
       "      <td>1</td>\n",
       "      <td>1</td>\n",
       "      <td>3</td>\n",
       "      <td>Absence</td>\n",
       "    </tr>\n",
       "    <tr>\n",
       "      <th>15</th>\n",
       "      <td>71</td>\n",
       "      <td>0</td>\n",
       "      <td>4</td>\n",
       "      <td>112</td>\n",
       "      <td>149</td>\n",
       "      <td>0</td>\n",
       "      <td>0</td>\n",
       "      <td>125</td>\n",
       "      <td>0</td>\n",
       "      <td>1.6</td>\n",
       "      <td>2</td>\n",
       "      <td>0</td>\n",
       "      <td>3</td>\n",
       "      <td>Absence</td>\n",
       "    </tr>\n",
       "  </tbody>\n",
       "</table>\n",
       "</div>"
      ],
      "text/plain": [
       "    Age  Sex  Chest pain type   BP  Cholesterol  FBS over 120  EKG results  \\\n",
       "0    70    1                4  130          322             0            2   \n",
       "1    67    0                3  115          564             0            2   \n",
       "2    57    1                2  124          261             0            0   \n",
       "3    64    1                4  128          263             0            0   \n",
       "4    74    0                2  120          269             0            2   \n",
       "5    65    1                4  120          177             0            0   \n",
       "6    56    1                3  130          256             1            2   \n",
       "7    59    1                4  110          239             0            2   \n",
       "8    60    1                4  140          293             0            2   \n",
       "9    63    0                4  150          407             0            2   \n",
       "10   59    1                4  135          234             0            0   \n",
       "11   53    1                4  142          226             0            2   \n",
       "12   44    1                3  140          235             0            2   \n",
       "13   61    1                1  134          234             0            0   \n",
       "14   57    0                4  128          303             0            2   \n",
       "15   71    0                4  112          149             0            0   \n",
       "\n",
       "    Max HR  Exercise angina  ST depression  Slope of ST  \\\n",
       "0      109                0            2.4            2   \n",
       "1      160                0            1.6            2   \n",
       "2      141                0            0.3            1   \n",
       "3      105                1            0.2            2   \n",
       "4      121                1            0.2            1   \n",
       "5      140                0            0.4            1   \n",
       "6      142                1            0.6            2   \n",
       "7      142                1            1.2            2   \n",
       "8      170                0            1.2            2   \n",
       "9      154                0            4.0            2   \n",
       "10     161                0            0.5            2   \n",
       "11     111                1            0.0            1   \n",
       "12     180                0            0.0            1   \n",
       "13     145                0            2.6            2   \n",
       "14     159                0            0.0            1   \n",
       "15     125                0            1.6            2   \n",
       "\n",
       "    Number of vessels fluro  Thallium Heart Disease  \n",
       "0                         3         3      Presence  \n",
       "1                         0         7       Absence  \n",
       "2                         0         7      Presence  \n",
       "3                         1         7       Absence  \n",
       "4                         1         3       Absence  \n",
       "5                         0         7       Absence  \n",
       "6                         1         6      Presence  \n",
       "7                         1         7      Presence  \n",
       "8                         2         7      Presence  \n",
       "9                         3         7      Presence  \n",
       "10                        0         7       Absence  \n",
       "11                        0         7       Absence  \n",
       "12                        0         3       Absence  \n",
       "13                        2         3      Presence  \n",
       "14                        1         3       Absence  \n",
       "15                        0         3       Absence  "
      ]
     },
     "execution_count": 8,
     "metadata": {},
     "output_type": "execute_result"
    }
   ],
   "source": [
    "dataframe.head(16)\n"
   ]
  },
  {
   "cell_type": "code",
   "execution_count": 9,
   "id": "d4651cb9",
   "metadata": {},
   "outputs": [],
   "source": [
    "#Target variable:\n",
    "dataframe['target'] = np.where(dataframe['Sex']==1, 0, 1)\n"
   ]
  },
  {
   "cell_type": "code",
   "execution_count": 32,
   "id": "fede2c07",
   "metadata": {},
   "outputs": [
    {
     "name": "stdout",
     "output_type": "stream",
     "text": [
      "     Age  Sex  Chest pain type   BP  Cholesterol  FBS over 120  EKG results  \\\n",
      "269   67    1                4  160          286             0            2   \n",
      "68    44    0                3  118          242             0            0   \n",
      "61    51    0                4  130          305             0            0   \n",
      "51    52    1                2  128          205             1            0   \n",
      "72    70    1                2  156          245             0            2   \n",
      "..   ...  ...              ...  ...          ...           ...          ...   \n",
      "180   42    1                3  120          240             1            0   \n",
      "107   60    0                4  150          258             0            2   \n",
      "58    59    0                4  174          249             0            0   \n",
      "189   70    1                3  160          269             0            0   \n",
      "127   52    0                3  136          196             0            2   \n",
      "\n",
      "     Max HR  Exercise angina  ST depression  Slope of ST  \\\n",
      "269     108                1            1.5            2   \n",
      "68      149                0            0.3            2   \n",
      "61      142                1            1.2            2   \n",
      "51      184                0            0.0            1   \n",
      "72      143                0            0.0            1   \n",
      "..      ...              ...            ...          ...   \n",
      "180     194                0            0.8            3   \n",
      "107     157                0            2.6            2   \n",
      "58      143                1            0.0            2   \n",
      "189     112                1            2.9            2   \n",
      "127     169                0            0.1            2   \n",
      "\n",
      "     Number of vessels fluro  Thallium Heart Disease  target  \n",
      "269                        3         3      Presence       0  \n",
      "68                         1         3       Absence       1  \n",
      "61                         0         7      Presence       1  \n",
      "51                         0         3       Absence       0  \n",
      "72                         0         3       Absence       0  \n",
      "..                       ...       ...           ...     ...  \n",
      "180                        0         7       Absence       0  \n",
      "107                        2         7      Presence       1  \n",
      "58                         0         3      Presence       1  \n",
      "189                        1         7      Presence       0  \n",
      "127                        0         3       Absence       1  \n",
      "\n",
      "[162 rows x 15 columns]  this is the training set.\n",
      "     Age  Sex  Chest pain type   BP  Cholesterol  FBS over 120  EKG results  \\\n",
      "185   43    1                3  130          315             0            0   \n",
      "235   62    0                4  160          164             0            2   \n",
      "117   56    0                4  200          288             1            2   \n",
      "130   63    0                4  108          269             0            0   \n",
      "264   48    1                2  110          229             0            0   \n",
      "..   ...  ...              ...  ...          ...           ...          ...   \n",
      "207   58    1                3  105          240             0            2   \n",
      "132   42    1                4  140          226             0            0   \n",
      "263   49    1                2  130          266             0            0   \n",
      "259   43    1                4  150          247             0            0   \n",
      "268   57    1                4  140          192             0            0   \n",
      "\n",
      "     Max HR  Exercise angina  ST depression  Slope of ST  \\\n",
      "185     162                0            1.9            1   \n",
      "235     145                0            6.2            3   \n",
      "117     133                1            4.0            3   \n",
      "130     169                1            1.8            2   \n",
      "264     168                0            1.0            3   \n",
      "..      ...              ...            ...          ...   \n",
      "207     154                1            0.6            2   \n",
      "132     178                0            0.0            1   \n",
      "263     171                0            0.6            1   \n",
      "259     171                0            1.5            1   \n",
      "268     148                0            0.4            2   \n",
      "\n",
      "     Number of vessels fluro  Thallium Heart Disease  target  \n",
      "185                        1         3       Absence       0  \n",
      "235                        3         7      Presence       1  \n",
      "117                        2         7      Presence       1  \n",
      "130                        2         3      Presence       1  \n",
      "264                        0         7      Presence       0  \n",
      "..                       ...       ...           ...     ...  \n",
      "207                        0         7       Absence       0  \n",
      "132                        0         3       Absence       0  \n",
      "263                        0         3       Absence       0  \n",
      "259                        0         3       Absence       0  \n",
      "268                        0         6       Absence       0  \n",
      "\n",
      "[81 rows x 15 columns]  this is the validation set.\n",
      "     Age  Sex  Chest pain type   BP  Cholesterol  FBS over 120  EKG results  \\\n",
      "137   56    1                4  125          249             1            2   \n",
      "65    57    1                4  150          276             0            2   \n",
      "34    50    1                4  144          200             0            2   \n",
      "18    64    1                1  110          211             0            2   \n",
      "103   57    1                4  165          289             1            2   \n",
      "50    42    1                4  136          315             0            0   \n",
      "54    45    0                2  130          234             0            2   \n",
      "227   43    0                4  132          341             1            2   \n",
      "167   53    1                3  130          197             1            2   \n",
      "223   63    1                4  130          330             1            2   \n",
      "112   60    0                4  158          305             0            2   \n",
      "245   60    1                4  130          253             0            0   \n",
      "32    37    0                3  120          215             0            0   \n",
      "80    58    1                4  146          218             0            0   \n",
      "86    62    1                2  128          208             1            2   \n",
      "79    56    1                2  120          236             0            0   \n",
      "85    42    1                1  148          244             0            2   \n",
      "171   69    1                3  140          254             0            2   \n",
      "265   52    1                3  172          199             1            0   \n",
      "241   39    1                3  140          321             0            2   \n",
      "202   60    1                4  125          258             0            2   \n",
      "87    59    1                1  178          270             0            2   \n",
      "0     70    1                4  130          322             0            2   \n",
      "33    59    1                4  170          326             0            2   \n",
      "181   56    0                4  134          409             0            2   \n",
      "4     74    0                2  120          269             0            2   \n",
      "9     63    0                4  150          407             0            2   \n",
      "\n",
      "     Max HR  Exercise angina  ST depression  Slope of ST  \\\n",
      "137     144                1            1.2            2   \n",
      "65      112                1            0.6            2   \n",
      "34      126                1            0.9            2   \n",
      "18      144                1            1.8            2   \n",
      "103     124                0            1.0            2   \n",
      "50      125                1            1.8            2   \n",
      "54      175                0            0.6            2   \n",
      "227     136                1            3.0            2   \n",
      "167     152                0            1.2            3   \n",
      "223     132                1            1.8            1   \n",
      "112     161                0            0.0            1   \n",
      "245     144                1            1.4            1   \n",
      "32      170                0            0.0            1   \n",
      "80      105                0            2.0            2   \n",
      "86      140                0            0.0            1   \n",
      "79      178                0            0.8            1   \n",
      "85      178                0            0.8            1   \n",
      "171     146                0            2.0            2   \n",
      "265     162                0            0.5            1   \n",
      "241     182                0            0.0            1   \n",
      "202     141                1            2.8            2   \n",
      "87      145                0            4.2            3   \n",
      "0       109                0            2.4            2   \n",
      "33      140                1            3.4            3   \n",
      "181     150                1            1.9            2   \n",
      "4       121                1            0.2            1   \n",
      "9       154                0            4.0            2   \n",
      "\n",
      "     Number of vessels fluro  Thallium Heart Disease  target  \n",
      "137                        1         3      Presence       0  \n",
      "65                         1         6      Presence       0  \n",
      "34                         0         7      Presence       0  \n",
      "18                         0         3       Absence       0  \n",
      "103                        3         7      Presence       0  \n",
      "50                         0         6      Presence       0  \n",
      "54                         0         3       Absence       1  \n",
      "227                        0         7      Presence       1  \n",
      "167                        0         3       Absence       0  \n",
      "223                        3         7      Presence       0  \n",
      "112                        0         3      Presence       1  \n",
      "245                        1         7      Presence       0  \n",
      "32                         0         3       Absence       1  \n",
      "80                         1         7      Presence       0  \n",
      "86                         0         3       Absence       0  \n",
      "79                         0         3       Absence       0  \n",
      "85                         2         3       Absence       0  \n",
      "171                        3         7      Presence       0  \n",
      "265                        0         7       Absence       0  \n",
      "241                        0         3       Absence       0  \n",
      "202                        1         7      Presence       0  \n",
      "87                         0         7       Absence       0  \n",
      "0                          3         3      Presence       0  \n",
      "33                         0         7      Presence       0  \n",
      "181                        2         7      Presence       1  \n",
      "4                          1         3       Absence       1  \n",
      "9                          3         7      Presence       1   this is the test set.\n"
     ]
    }
   ],
   "source": [
    "#Split data in training, validation, and test sets:\n",
    "heart_train, heart_val, heart_test = np.split(dataframe.sample(frac=1), [int(0.6 *len(dataframe)), int(0.9 *len(dataframe))])\n",
    "#print the values:\n",
    "print(heart_train, \" this is the training set.\")\n",
    "print(heart_val, \" this is the validation set.\")\n",
    "print(heart_test, \"this is the test set.\")\n",
    "#Note: target variable appears here"
   ]
  },
  {
   "cell_type": "code",
   "execution_count": 11,
   "id": "8c0fb7a8",
   "metadata": {},
   "outputs": [],
   "source": [
    "#Creating input pipeline using tf.data:\n",
    "def df_to_dataset(dataframe, shuffle=True, batch_size=32):\n",
    "    df = dataframe.copy()\n",
    "    labels = df.pop('target')\n",
    "    #df = {key: value[:,tf.newaxis] for key, value in dataframe.items()}\n",
    "    np.array(dataframe)[:, None] #converting to a numpy array before indexing\n",
    "    ds = tf.data.Dataset.from_tensor_slices((dict(df), labels))\n",
    "    if shuffle:\n",
    "        ds = ds.shuffle(buffer_size=len(dataframe))\n",
    "    ds = ds.batch(batch_size)\n",
    "    ds = ds.prefetch(batch_size)\n",
    "    return ds"
   ]
  },
  {
   "cell_type": "code",
   "execution_count": 12,
   "id": "497a22e9",
   "metadata": {},
   "outputs": [],
   "source": [
    "batch_size = 5\n",
    "train_ds = df_to_dataset(heart_train, batch_size=batch_size)"
   ]
  },
  {
   "cell_type": "code",
   "execution_count": 13,
   "id": "fef5ef9e",
   "metadata": {},
   "outputs": [
    {
     "name": "stdout",
     "output_type": "stream",
     "text": [
      "List of features: ['Age', 'Sex', 'Chest pain type', 'BP', 'Cholesterol', 'FBS over 120', 'EKG results', 'Max HR', 'Exercise angina', 'ST depression', 'Slope of ST', 'Number of vessels fluro', 'Thallium', 'Heart Disease']\n"
     ]
    }
   ],
   "source": [
    "[(train_features, label_batch)] = train_ds.take(1)\n",
    "print('List of features:', list(train_features.keys()))"
   ]
  },
  {
   "cell_type": "code",
   "execution_count": 14,
   "id": "3112f2aa",
   "metadata": {},
   "outputs": [
    {
     "name": "stdout",
     "output_type": "stream",
     "text": [
      "A batch of ages: tf.Tensor([39 44 56 54 67], shape=(5,), dtype=int64)\n"
     ]
    }
   ],
   "source": [
    "print('A batch of ages:', train_features['Age'])"
   ]
  },
  {
   "cell_type": "code",
   "execution_count": 15,
   "id": "1f09f34c",
   "metadata": {},
   "outputs": [
    {
     "name": "stdout",
     "output_type": "stream",
     "text": [
      "A batch of targets: tf.Tensor([0 0 0 0 0], shape=(5,), dtype=int32)\n"
     ]
    }
   ],
   "source": [
    "print('A batch of targets:', label_batch)"
   ]
  },
  {
   "cell_type": "code",
   "execution_count": 16,
   "id": "a9b1876c",
   "metadata": {},
   "outputs": [],
   "source": [
    "#applying keras processing layers for numerical columns\n",
    "def get_normal_layer(feature, dataframe):\n",
    "    #Creates normalization layer for the feature:\n",
    "    normal = layers.Normalization(axis=None)\n",
    "    #Prepare dataset that only yields the feature:\n",
    "    feature_ds = dataframe.map(lambda x, y: x[feature])\n",
    "    #Learn stats of the data:\n",
    "    normal.adapt(feature_ds)\n",
    "    \n",
    "    return normal"
   ]
  },
  {
   "cell_type": "code",
   "execution_count": 17,
   "id": "af370da1",
   "metadata": {},
   "outputs": [
    {
     "data": {
      "text/plain": [
       "<tf.Tensor: shape=(5,), dtype=float32, numpy=array([ 1.412,  1.029, -0.291, -1.696,  0.603], dtype=float32)>"
      ]
     },
     "execution_count": 17,
     "metadata": {},
     "output_type": "execute_result"
    }
   ],
   "source": [
    "max_hr_col = train_features['Max HR']\n",
    "layer = get_normal_layer('Max HR', train_ds)\n",
    "layer(max_hr_col)\n",
    "#similar process can be done for categorical cloumns"
   ]
  },
  {
   "cell_type": "code",
   "execution_count": 18,
   "id": "92f2996f",
   "metadata": {},
   "outputs": [],
   "source": [
    "def get_category_encoding_layer(name, dataset, dtype, max_tokens=None):\n",
    "  # Create a layer that turns strings into integer indices.\n",
    "  if dtype == 'string':\n",
    "    index = layers.StringLookup(max_tokens=max_tokens)\n",
    "  # Otherwise, create a layer that turns integer values into integer indices.\n",
    "  else:\n",
    "    index = layers.IntegerLookup(max_tokens=max_tokens)\n",
    "\n",
    "  # Prepare a `tf.data.Dataset` that only yields the feature.\n",
    "  feature_ds = dataset.map(lambda x, y: x[name])\n",
    "\n",
    "  # Learn the set of possible values and assign them a fixed integer index.\n",
    "  index.adapt(feature_ds)\n",
    "\n",
    "  # Encode the integer indices.\n",
    "  encoder = layers.CategoryEncoding(num_tokens=index.vocabulary_size())\n",
    "\n",
    "  # Apply multi-hot encoding to the indices. The lambda function captures the\n",
    "  # layer, so you can use them, or include them in the Keras Functional model later.\n",
    "  return lambda feature: encoder(index(feature))"
   ]
  },
  {
   "cell_type": "code",
   "execution_count": 19,
   "id": "e7acfe2c",
   "metadata": {},
   "outputs": [
    {
     "data": {
      "text/plain": [
       "<tf.Tensor: shape=(5,), dtype=float32, numpy=array([1., 1., 0., 0., 0.], dtype=float32)>"
      ]
     },
     "execution_count": 19,
     "metadata": {},
     "output_type": "execute_result"
    }
   ],
   "source": [
    "test_type_col = train_features['Age']\n",
    "test_type_layer = get_category_encoding_layer(name='Age',\n",
    "                                              dataset=train_ds,\n",
    "                                              dtype='int64',\n",
    "                                              max_tokens=5)\n",
    "test_type_layer(test_type_col)"
   ]
  },
  {
   "cell_type": "code",
   "execution_count": 20,
   "id": "d220b940",
   "metadata": {},
   "outputs": [],
   "source": [
    "#preprocess selected features to train model on:\n",
    "batch_size = 150\n",
    "train_ds = df_to_dataset(heart_train, batch_size=batch_size)\n",
    "val_ds = df_to_dataset(heart_val, shuffle=False, batch_size=batch_size)\n",
    "test_ds = df_to_dataset(heart_test, shuffle=False, batch_size=batch_size)"
   ]
  },
  {
   "cell_type": "code",
   "execution_count": 21,
   "id": "b5b55093",
   "metadata": {},
   "outputs": [],
   "source": [
    "all_inputs = []\n",
    "encoded_features = []\n",
    "\n",
    "#Numerical features:\n",
    "for header in ['Max HR']:\n",
    "    numeric_col = tf.keras.Input(shape=(1,), name=header)\n",
    "    normalization_layer = get_normal_layer(header, train_ds)\n",
    "    encoded_numeric_col = normalization_layer(numeric_col)\n",
    "    all_inputs.append(numeric_col)\n",
    "    encoded_features.append(encoded_numeric_col)"
   ]
  },
  {
   "cell_type": "code",
   "execution_count": 22,
   "id": "f6cf9f55",
   "metadata": {},
   "outputs": [],
   "source": [
    "#turn categorical values into int indeces:\n",
    "age_col = tf.keras.Input(shape=(1,), name='Age', dtype='int64')\n",
    "encoding_layer = get_category_encoding_layer(name='Age',\n",
    "                                   dataset=train_ds,\n",
    "                                   dtype='int64',\n",
    "                                   max_tokens=5)\n",
    "encoded_age_col = encoding_layer(age_col)\n",
    "all_inputs.append(age_col)\n",
    "encoded_features.append(encoded_age_col)\n"
   ]
  },
  {
   "cell_type": "code",
   "execution_count": 23,
   "id": "f885f196",
   "metadata": {},
   "outputs": [],
   "source": [
    "all_features = tf.keras.layers.concatenate(encoded_features)\n",
    "x = tf.keras.layers.Dense(32, activation=\"relu\")(all_features)\n",
    "x = tf.keras.layers.Dropout(0.5)(x)\n",
    "output = tf.keras.layers.Dense(1)(x)\n",
    "\n",
    "model = tf.keras.Model(all_inputs, output)"
   ]
  },
  {
   "cell_type": "code",
   "execution_count": 24,
   "id": "870eb71e",
   "metadata": {},
   "outputs": [],
   "source": [
    "model.compile(optimizer='adam',\n",
    "              loss=tf.keras.losses.BinaryCrossentropy(from_logits=True),\n",
    "              metrics=[\"accuracy\"])"
   ]
  },
  {
   "cell_type": "code",
   "execution_count": 25,
   "id": "c891728a",
   "metadata": {},
   "outputs": [
    {
     "data": {
      "image/png": "[encoded data removed]",
      "text/plain": [
       "<IPython.core.display.Image object>"
      ]
     },
     "execution_count": 25,
     "metadata": {},
     "output_type": "execute_result"
    }
   ],
   "source": [
    "#Connectivity graph\n",
    "tf.keras.utils.plot_model(model, show_shapes=True, rankdir=\"LR\")"
   ]
  },
  {
   "cell_type": "code",
   "execution_count": 26,
   "id": "07c5012e",
   "metadata": {},
   "outputs": [
    {
     "name": "stdout",
     "output_type": "stream",
     "text": [
      "Epoch 1/10\n"
     ]
    },
    {
     "name": "stderr",
     "output_type": "stream",
     "text": [
      "C:\\Users\\ameli\\anaconda3\\lib\\site-packages\\keras\\engine\\functional.py:639: UserWarning:\n",
      "\n",
      "Input dict contained keys ['Sex', 'Chest pain type', 'BP', 'Cholesterol', 'FBS over 120', 'EKG results', 'Exercise angina', 'ST depression', 'Slope of ST', 'Number of vessels fluro', 'Thallium', 'Heart Disease'] which did not match any model input. They will be ignored by the model.\n",
      "\n"
     ]
    },
    {
     "name": "stdout",
     "output_type": "stream",
     "text": [
      "2/2 [==============================] - 1s 335ms/step - loss: 0.6613 - accuracy: 0.6358 - val_loss: 0.6184 - val_accuracy: 0.7778\n",
      "Epoch 2/10\n",
      "2/2 [==============================] - 0s 32ms/step - loss: 0.6846 - accuracy: 0.6358 - val_loss: 0.6154 - val_accuracy: 0.7778\n",
      "Epoch 3/10\n",
      "2/2 [==============================] - 0s 29ms/step - loss: 0.6623 - accuracy: 0.6420 - val_loss: 0.6130 - val_accuracy: 0.7778\n",
      "Epoch 4/10\n",
      "2/2 [==============================] - 0s 29ms/step - loss: 0.6493 - accuracy: 0.6420 - val_loss: 0.6105 - val_accuracy: 0.7778\n",
      "Epoch 5/10\n",
      "2/2 [==============================] - 0s 34ms/step - loss: 0.6643 - accuracy: 0.6358 - val_loss: 0.6080 - val_accuracy: 0.7778\n",
      "Epoch 6/10\n",
      "2/2 [==============================] - 0s 50ms/step - loss: 0.6996 - accuracy: 0.6358 - val_loss: 0.6056 - val_accuracy: 0.7778\n",
      "Epoch 7/10\n",
      "2/2 [==============================] - 0s 30ms/step - loss: 0.6690 - accuracy: 0.6420 - val_loss: 0.6031 - val_accuracy: 0.7778\n",
      "Epoch 8/10\n",
      "2/2 [==============================] - 0s 28ms/step - loss: 0.6621 - accuracy: 0.6420 - val_loss: 0.6010 - val_accuracy: 0.7778\n",
      "Epoch 9/10\n",
      "2/2 [==============================] - 0s 27ms/step - loss: 0.6836 - accuracy: 0.6358 - val_loss: 0.5991 - val_accuracy: 0.7778\n",
      "Epoch 10/10\n",
      "2/2 [==============================] - 0s 30ms/step - loss: 0.6459 - accuracy: 0.6420 - val_loss: 0.5973 - val_accuracy: 0.7778\n"
     ]
    },
    {
     "data": {
      "text/plain": [
       "<keras.callbacks.History at 0x2b8d31f5600>"
      ]
     },
     "execution_count": 26,
     "metadata": {},
     "output_type": "execute_result"
    }
   ],
   "source": [
    "#train the data\n",
    "model.fit(train_ds, epochs=10, validation_data=val_ds)"
   ]
  },
  {
   "cell_type": "code",
   "execution_count": 31,
   "id": "195ed49a",
   "metadata": {},
   "outputs": [
    {
     "name": "stdout",
     "output_type": "stream",
     "text": [
      "1/1 [==============================] - 0s 25ms/step - loss: 0.6853 - accuracy: 0.5926\n",
      "Accuracy 0.5925925970077515\n"
     ]
    }
   ],
   "source": [
    "loss, accuracy = model.evaluate(test_ds)\n",
    "print(\"Accuracy\", accuracy)"
   ]
  },
  {
   "cell_type": "code",
   "execution_count": 33,
   "id": "6ef97b91",
   "metadata": {},
   "outputs": [
    {
     "data": {
      "application/vnd.plotly.v1+json": {
       "config": {
        "plotlyServerURL": "https://plot.ly"
       },
       "data": [
        {
         "hovertemplate": "Age=%{x}<br>Max HR=%{y}<extra></extra>",
         "legendgroup": "",
         "marker": {
          "color": "#636efa",
          "opacity": 0.65,
          "symbol": "circle"
         },
         "mode": "markers",
         "name": "",
         "orientation": "v",
         "showlegend": false,
         "type": "scatter",
         "x": [
          70,
          67,
          57,
          64,
          74,
          65,
          56,
          59,
          60,
          63,
          59,
          53,
          44,
          61,
          57,
          71,
          46,
          53,
          64,
          40,
          67,
          48,
          43,
          47,
          54,
          48,
          46,
          51,
          58,
          71,
          57,
          66,
          37,
          59,
          50,
          48,
          61,
          59,
          42,
          48,
          40,
          62,
          44,
          46,
          59,
          58,
          49,
          44,
          66,
          65,
          42,
          52,
          65,
          63,
          45,
          41,
          61,
          60,
          59,
          62,
          57,
          51,
          44,
          60,
          63,
          57,
          51,
          58,
          44,
          47,
          61,
          57,
          70,
          76,
          67,
          45,
          45,
          39,
          42,
          56,
          58,
          35,
          58,
          41,
          57,
          42,
          62,
          59,
          41,
          50,
          59,
          61,
          54,
          54,
          52,
          47,
          66,
          58,
          64,
          50,
          44,
          67,
          49,
          57,
          63,
          48,
          51,
          60,
          59,
          45,
          55,
          41,
          60,
          54,
          42,
          49,
          46,
          56,
          66,
          56,
          49,
          54,
          57,
          65,
          54,
          54,
          62,
          52,
          52,
          60,
          63,
          66,
          42,
          64,
          54,
          46,
          67,
          56,
          34,
          57,
          64,
          59,
          50,
          51,
          54,
          53,
          52,
          40,
          58,
          41,
          41,
          50,
          54,
          64,
          51,
          46,
          55,
          45,
          56,
          66,
          38,
          62,
          55,
          58,
          43,
          64,
          50,
          53,
          45,
          65,
          69,
          69,
          67,
          68,
          34,
          62,
          51,
          46,
          67,
          50,
          42,
          56,
          41,
          42,
          53,
          43,
          56,
          52,
          62,
          70,
          54,
          70,
          54,
          35,
          48,
          55,
          58,
          54,
          69,
          77,
          68,
          58,
          60,
          51,
          55,
          52,
          60,
          58,
          64,
          37,
          59,
          51,
          43,
          58,
          29,
          41,
          63,
          51,
          54,
          44,
          54,
          65,
          57,
          63,
          35,
          41,
          62,
          43,
          58,
          52,
          61,
          39,
          45,
          52,
          62,
          62,
          53,
          43,
          47,
          52,
          68,
          39,
          53,
          62,
          51,
          60,
          65,
          65,
          60,
          60,
          54,
          44,
          44,
          51,
          59,
          71,
          61,
          55,
          64,
          43,
          58,
          60,
          58,
          49,
          48,
          52,
          44,
          56,
          57,
          67
         ],
         "xaxis": "x",
         "y": [
          109,
          160,
          141,
          105,
          121,
          140,
          142,
          142,
          170,
          154,
          161,
          111,
          180,
          145,
          159,
          125,
          120,
          155,
          144,
          178,
          129,
          180,
          181,
          143,
          159,
          139,
          152,
          157,
          165,
          130,
          150,
          138,
          170,
          140,
          126,
          150,
          138,
          125,
          150,
          186,
          181,
          163,
          179,
          156,
          134,
          165,
          126,
          177,
          120,
          114,
          125,
          184,
          157,
          179,
          175,
          168,
          125,
          96,
          143,
          103,
          173,
          142,
          169,
          171,
          150,
          112,
          186,
          152,
          149,
          152,
          140,
          163,
          143,
          116,
          142,
          147,
          148,
          179,
          173,
          178,
          105,
          130,
          111,
          168,
          126,
          178,
          140,
          145,
          163,
          128,
          164,
          169,
          109,
          108,
          168,
          118,
          151,
          156,
          133,
          162,
          175,
          71,
          163,
          124,
          147,
          166,
          143,
          157,
          162,
          138,
          117,
          153,
          161,
          170,
          162,
          162,
          144,
          133,
          114,
          103,
          139,
          116,
          88,
          151,
          152,
          163,
          99,
          169,
          158,
          160,
          169,
          132,
          178,
          96,
          165,
          160,
          172,
          144,
          192,
          168,
          132,
          182,
          163,
          125,
          195,
          95,
          160,
          114,
          173,
          172,
          179,
          158,
          167,
          122,
          149,
          172,
          111,
          170,
          162,
          165,
          182,
          154,
          155,
          130,
          161,
          154,
          159,
          152,
          152,
          174,
          131,
          146,
          125,
          115,
          174,
          106,
          122,
          147,
          163,
          163,
          194,
          150,
          158,
          122,
          173,
          162,
          105,
          147,
          157,
          112,
          160,
          125,
          156,
          156,
          175,
          161,
          122,
          158,
          151,
          162,
          151,
          171,
          141,
          173,
          145,
          178,
          160,
          154,
          131,
          187,
          159,
          166,
          165,
          131,
          202,
          172,
          172,
          154,
          147,
          170,
          126,
          127,
          174,
          132,
          182,
          132,
          97,
          136,
          162,
          190,
          146,
          140,
          185,
          161,
          146,
          145,
          160,
          120,
          156,
          172,
          150,
          182,
          143,
          160,
          142,
          144,
          158,
          148,
          155,
          142,
          113,
          188,
          153,
          123,
          157,
          162,
          137,
          132,
          158,
          171,
          172,
          132,
          160,
          171,
          168,
          162,
          173,
          153,
          148,
          108
         ],
         "yaxis": "y"
        },
        {
         "hovertemplate": "<b>OLS trendline</b><br>Max HR = -1.02289 * Age + 205.357<br>R<sup>2</sup>=0.161777<br><br>Age=%{x}<br>Max HR=%{y} <b>(trend)</b><extra></extra>",
         "legendgroup": "",
         "line": {
          "color": "darkblue"
         },
         "marker": {
          "color": "#636efa",
          "symbol": "circle"
         },
         "mode": "lines",
         "name": "",
         "showlegend": false,
         "type": "scatter",
         "x": [
          29,
          34,
          34,
          35,
          35,
          35,
          37,
          37,
          38,
          39,
          39,
          39,
          40,
          40,
          40,
          41,
          41,
          41,
          41,
          41,
          41,
          41,
          41,
          41,
          42,
          42,
          42,
          42,
          42,
          42,
          42,
          42,
          43,
          43,
          43,
          43,
          43,
          43,
          43,
          44,
          44,
          44,
          44,
          44,
          44,
          44,
          44,
          44,
          44,
          45,
          45,
          45,
          45,
          45,
          45,
          45,
          46,
          46,
          46,
          46,
          46,
          46,
          46,
          47,
          47,
          47,
          47,
          48,
          48,
          48,
          48,
          48,
          48,
          48,
          49,
          49,
          49,
          49,
          49,
          50,
          50,
          50,
          50,
          50,
          50,
          50,
          51,
          51,
          51,
          51,
          51,
          51,
          51,
          51,
          51,
          51,
          51,
          51,
          52,
          52,
          52,
          52,
          52,
          52,
          52,
          52,
          52,
          52,
          52,
          53,
          53,
          53,
          53,
          53,
          53,
          53,
          54,
          54,
          54,
          54,
          54,
          54,
          54,
          54,
          54,
          54,
          54,
          54,
          54,
          54,
          54,
          54,
          55,
          55,
          55,
          55,
          55,
          55,
          56,
          56,
          56,
          56,
          56,
          56,
          56,
          56,
          56,
          57,
          57,
          57,
          57,
          57,
          57,
          57,
          57,
          57,
          57,
          57,
          57,
          58,
          58,
          58,
          58,
          58,
          58,
          58,
          58,
          58,
          58,
          58,
          58,
          58,
          58,
          58,
          59,
          59,
          59,
          59,
          59,
          59,
          59,
          59,
          59,
          59,
          59,
          59,
          60,
          60,
          60,
          60,
          60,
          60,
          60,
          60,
          60,
          60,
          60,
          60,
          61,
          61,
          61,
          61,
          61,
          61,
          61,
          62,
          62,
          62,
          62,
          62,
          62,
          62,
          62,
          62,
          62,
          62,
          63,
          63,
          63,
          63,
          63,
          63,
          63,
          64,
          64,
          64,
          64,
          64,
          64,
          64,
          64,
          64,
          65,
          65,
          65,
          65,
          65,
          65,
          65,
          65,
          66,
          66,
          66,
          66,
          66,
          66,
          67,
          67,
          67,
          67,
          67,
          67,
          67,
          67,
          68,
          68,
          68,
          69,
          69,
          69,
          70,
          70,
          70,
          70,
          71,
          71,
          71,
          74,
          76,
          77
         ],
         "xaxis": "x",
         "y": [
          175.6933807639981,
          170.57891097640567,
          170.57891097640567,
          169.55601701888716,
          169.55601701888716,
          169.55601701888716,
          167.51022910385018,
          167.51022910385018,
          166.4873351463317,
          165.4644411888132,
          165.4644411888132,
          165.4644411888132,
          164.44154723129472,
          164.44154723129472,
          164.44154723129472,
          163.41865327377621,
          163.41865327377621,
          163.41865327377621,
          163.41865327377621,
          163.41865327377621,
          163.41865327377621,
          163.41865327377621,
          163.41865327377621,
          163.41865327377621,
          162.39575931625774,
          162.39575931625774,
          162.39575931625774,
          162.39575931625774,
          162.39575931625774,
          162.39575931625774,
          162.39575931625774,
          162.39575931625774,
          161.37286535873926,
          161.37286535873926,
          161.37286535873926,
          161.37286535873926,
          161.37286535873926,
          161.37286535873926,
          161.37286535873926,
          160.34997140122076,
          160.34997140122076,
          160.34997140122076,
          160.34997140122076,
          160.34997140122076,
          160.34997140122076,
          160.34997140122076,
          160.34997140122076,
          160.34997140122076,
          160.34997140122076,
          159.32707744370225,
          159.32707744370225,
          159.32707744370225,
          159.32707744370225,
          159.32707744370225,
          159.32707744370225,
          159.32707744370225,
          158.30418348618377,
          158.30418348618377,
          158.30418348618377,
          158.30418348618377,
          158.30418348618377,
          158.30418348618377,
          158.30418348618377,
          157.2812895286653,
          157.2812895286653,
          157.2812895286653,
          157.2812895286653,
          156.2583955711468,
          156.2583955711468,
          156.2583955711468,
          156.2583955711468,
          156.2583955711468,
          156.2583955711468,
          156.2583955711468,
          155.23550161362832,
          155.23550161362832,
          155.23550161362832,
          155.23550161362832,
          155.23550161362832,
          154.2126076561098,
          154.2126076561098,
          154.2126076561098,
          154.2126076561098,
          154.2126076561098,
          154.2126076561098,
          154.2126076561098,
          153.18971369859133,
          153.18971369859133,
          153.18971369859133,
          153.18971369859133,
          153.18971369859133,
          153.18971369859133,
          153.18971369859133,
          153.18971369859133,
          153.18971369859133,
          153.18971369859133,
          153.18971369859133,
          153.18971369859133,
          152.16681974107286,
          152.16681974107286,
          152.16681974107286,
          152.16681974107286,
          152.16681974107286,
          152.16681974107286,
          152.16681974107286,
          152.16681974107286,
          152.16681974107286,
          152.16681974107286,
          152.16681974107286,
          151.14392578355435,
          151.14392578355435,
          151.14392578355435,
          151.14392578355435,
          151.14392578355435,
          151.14392578355435,
          151.14392578355435,
          150.12103182603585,
          150.12103182603585,
          150.12103182603585,
          150.12103182603585,
          150.12103182603585,
          150.12103182603585,
          150.12103182603585,
          150.12103182603585,
          150.12103182603585,
          150.12103182603585,
          150.12103182603585,
          150.12103182603585,
          150.12103182603585,
          150.12103182603585,
          150.12103182603585,
          150.12103182603585,
          149.09813786851737,
          149.09813786851737,
          149.09813786851737,
          149.09813786851737,
          149.09813786851737,
          149.09813786851737,
          148.0752439109989,
          148.0752439109989,
          148.0752439109989,
          148.0752439109989,
          148.0752439109989,
          148.0752439109989,
          148.0752439109989,
          148.0752439109989,
          148.0752439109989,
          147.0523499534804,
          147.0523499534804,
          147.0523499534804,
          147.0523499534804,
          147.0523499534804,
          147.0523499534804,
          147.0523499534804,
          147.0523499534804,
          147.0523499534804,
          147.0523499534804,
          147.0523499534804,
          147.0523499534804,
          146.0294559959619,
          146.0294559959619,
          146.0294559959619,
          146.0294559959619,
          146.0294559959619,
          146.0294559959619,
          146.0294559959619,
          146.0294559959619,
          146.0294559959619,
          146.0294559959619,
          146.0294559959619,
          146.0294559959619,
          146.0294559959619,
          146.0294559959619,
          146.0294559959619,
          145.0065620384434,
          145.0065620384434,
          145.0065620384434,
          145.0065620384434,
          145.0065620384434,
          145.0065620384434,
          145.0065620384434,
          145.0065620384434,
          145.0065620384434,
          145.0065620384434,
          145.0065620384434,
          145.0065620384434,
          143.98366808092493,
          143.98366808092493,
          143.98366808092493,
          143.98366808092493,
          143.98366808092493,
          143.98366808092493,
          143.98366808092493,
          143.98366808092493,
          143.98366808092493,
          143.98366808092493,
          143.98366808092493,
          143.98366808092493,
          142.96077412340642,
          142.96077412340642,
          142.96077412340642,
          142.96077412340642,
          142.96077412340642,
          142.96077412340642,
          142.96077412340642,
          141.93788016588795,
          141.93788016588795,
          141.93788016588795,
          141.93788016588795,
          141.93788016588795,
          141.93788016588795,
          141.93788016588795,
          141.93788016588795,
          141.93788016588795,
          141.93788016588795,
          141.93788016588795,
          140.91498620836944,
          140.91498620836944,
          140.91498620836944,
          140.91498620836944,
          140.91498620836944,
          140.91498620836944,
          140.91498620836944,
          139.89209225085096,
          139.89209225085096,
          139.89209225085096,
          139.89209225085096,
          139.89209225085096,
          139.89209225085096,
          139.89209225085096,
          139.89209225085096,
          139.89209225085096,
          138.8691982933325,
          138.8691982933325,
          138.8691982933325,
          138.8691982933325,
          138.8691982933325,
          138.8691982933325,
          138.8691982933325,
          138.8691982933325,
          137.84630433581398,
          137.84630433581398,
          137.84630433581398,
          137.84630433581398,
          137.84630433581398,
          137.84630433581398,
          136.82341037829548,
          136.82341037829548,
          136.82341037829548,
          136.82341037829548,
          136.82341037829548,
          136.82341037829548,
          136.82341037829548,
          136.82341037829548,
          135.800516420777,
          135.800516420777,
          135.800516420777,
          134.77762246325852,
          134.77762246325852,
          134.77762246325852,
          133.75472850574005,
          133.75472850574005,
          133.75472850574005,
          133.75472850574005,
          132.73183454822154,
          132.73183454822154,
          132.73183454822154,
          129.66315267566608,
          127.61736476062909,
          126.5944708031106
         ],
         "yaxis": "y"
        }
       ],
       "layout": {
        "legend": {
         "tracegroupgap": 0
        },
        "margin": {
         "t": 60
        },
        "template": {
         "data": {
          "bar": [
           {
            "error_x": {
             "color": "#2a3f5f"
            },
            "error_y": {
             "color": "#2a3f5f"
            },
            "marker": {
             "line": {
              "color": "#E5ECF6",
              "width": 0.5
             },
             "pattern": {
              "fillmode": "overlay",
              "size": 10,
              "solidity": 0.2
             }
            },
            "type": "bar"
           }
          ],
          "barpolar": [
           {
            "marker": {
             "line": {
              "color": "#E5ECF6",
              "width": 0.5
             },
             "pattern": {
              "fillmode": "overlay",
              "size": 10,
              "solidity": 0.2
             }
            },
            "type": "barpolar"
           }
          ],
          "carpet": [
           {
            "aaxis": {
             "endlinecolor": "#2a3f5f",
             "gridcolor": "white",
             "linecolor": "white",
             "minorgridcolor": "white",
             "startlinecolor": "#2a3f5f"
            },
            "baxis": {
             "endlinecolor": "#2a3f5f",
             "gridcolor": "white",
             "linecolor": "white",
             "minorgridcolor": "white",
             "startlinecolor": "#2a3f5f"
            },
            "type": "carpet"
           }
          ],
          "choropleth": [
           {
            "colorbar": {
             "outlinewidth": 0,
             "ticks": ""
            },
            "type": "choropleth"
           }
          ],
          "contour": [
           {
            "colorbar": {
             "outlinewidth": 0,
             "ticks": ""
            },
            "colorscale": [
             [
              0,
              "#0d0887"
             ],
             [
              0.1111111111111111,
              "#46039f"
             ],
             [
              0.2222222222222222,
              "#7201a8"
             ],
             [
              0.3333333333333333,
              "#9c179e"
             ],
             [
              0.4444444444444444,
              "#bd3786"
             ],
             [
              0.5555555555555556,
              "#d8576b"
             ],
             [
              0.6666666666666666,
              "#ed7953"
             ],
             [
              0.7777777777777778,
              "#fb9f3a"
             ],
             [
              0.8888888888888888,
              "#fdca26"
             ],
             [
              1,
              "#f0f921"
             ]
            ],
            "type": "contour"
           }
          ],
          "contourcarpet": [
           {
            "colorbar": {
             "outlinewidth": 0,
             "ticks": ""
            },
            "type": "contourcarpet"
           }
          ],
          "heatmap": [
           {
            "colorbar": {
             "outlinewidth": 0,
             "ticks": ""
            },
            "colorscale": [
             [
              0,
              "#0d0887"
             ],
             [
              0.1111111111111111,
              "#46039f"
             ],
             [
              0.2222222222222222,
              "#7201a8"
             ],
             [
              0.3333333333333333,
              "#9c179e"
             ],
             [
              0.4444444444444444,
              "#bd3786"
             ],
             [
              0.5555555555555556,
              "#d8576b"
             ],
             [
              0.6666666666666666,
              "#ed7953"
             ],
             [
              0.7777777777777778,
              "#fb9f3a"
             ],
             [
              0.8888888888888888,
              "#fdca26"
             ],
             [
              1,
              "#f0f921"
             ]
            ],
            "type": "heatmap"
           }
          ],
          "heatmapgl": [
           {
            "colorbar": {
             "outlinewidth": 0,
             "ticks": ""
            },
            "colorscale": [
             [
              0,
              "#0d0887"
             ],
             [
              0.1111111111111111,
              "#46039f"
             ],
             [
              0.2222222222222222,
              "#7201a8"
             ],
             [
              0.3333333333333333,
              "#9c179e"
             ],
             [
              0.4444444444444444,
              "#bd3786"
             ],
             [
              0.5555555555555556,
              "#d8576b"
             ],
             [
              0.6666666666666666,
              "#ed7953"
             ],
             [
              0.7777777777777778,
              "#fb9f3a"
             ],
             [
              0.8888888888888888,
              "#fdca26"
             ],
             [
              1,
              "#f0f921"
             ]
            ],
            "type": "heatmapgl"
           }
          ],
          "histogram": [
           {
            "marker": {
             "pattern": {
              "fillmode": "overlay",
              "size": 10,
              "solidity": 0.2
             }
            },
            "type": "histogram"
           }
          ],
          "histogram2d": [
           {
            "colorbar": {
             "outlinewidth": 0,
             "ticks": ""
            },
            "colorscale": [
             [
              0,
              "#0d0887"
             ],
             [
              0.1111111111111111,
              "#46039f"
             ],
             [
              0.2222222222222222,
              "#7201a8"
             ],
             [
              0.3333333333333333,
              "#9c179e"
             ],
             [
              0.4444444444444444,
              "#bd3786"
             ],
             [
              0.5555555555555556,
              "#d8576b"
             ],
             [
              0.6666666666666666,
              "#ed7953"
             ],
             [
              0.7777777777777778,
              "#fb9f3a"
             ],
             [
              0.8888888888888888,
              "#fdca26"
             ],
             [
              1,
              "#f0f921"
             ]
            ],
            "type": "histogram2d"
           }
          ],
          "histogram2dcontour": [
           {
            "colorbar": {
             "outlinewidth": 0,
             "ticks": ""
            },
            "colorscale": [
             [
              0,
              "#0d0887"
             ],
             [
              0.1111111111111111,
              "#46039f"
             ],
             [
              0.2222222222222222,
              "#7201a8"
             ],
             [
              0.3333333333333333,
              "#9c179e"
             ],
             [
              0.4444444444444444,
              "#bd3786"
             ],
             [
              0.5555555555555556,
              "#d8576b"
             ],
             [
              0.6666666666666666,
              "#ed7953"
             ],
             [
              0.7777777777777778,
              "#fb9f3a"
             ],
             [
              0.8888888888888888,
              "#fdca26"
             ],
             [
              1,
              "#f0f921"
             ]
            ],
            "type": "histogram2dcontour"
           }
          ],
          "mesh3d": [
           {
            "colorbar": {
             "outlinewidth": 0,
             "ticks": ""
            },
            "type": "mesh3d"
           }
          ],
          "parcoords": [
           {
            "line": {
             "colorbar": {
              "outlinewidth": 0,
              "ticks": ""
             }
            },
            "type": "parcoords"
           }
          ],
          "pie": [
           {
            "automargin": true,
            "type": "pie"
           }
          ],
          "scatter": [
           {
            "fillpattern": {
             "fillmode": "overlay",
             "size": 10,
             "solidity": 0.2
            },
            "type": "scatter"
           }
          ],
          "scatter3d": [
           {
            "line": {
             "colorbar": {
              "outlinewidth": 0,
              "ticks": ""
             }
            },
            "marker": {
             "colorbar": {
              "outlinewidth": 0,
              "ticks": ""
             }
            },
            "type": "scatter3d"
           }
          ],
          "scattercarpet": [
           {
            "marker": {
             "colorbar": {
              "outlinewidth": 0,
              "ticks": ""
             }
            },
            "type": "scattercarpet"
           }
          ],
          "scattergeo": [
           {
            "marker": {
             "colorbar": {
              "outlinewidth": 0,
              "ticks": ""
             }
            },
            "type": "scattergeo"
           }
          ],
          "scattergl": [
           {
            "marker": {
             "colorbar": {
              "outlinewidth": 0,
              "ticks": ""
             }
            },
            "type": "scattergl"
           }
          ],
          "scattermapbox": [
           {
            "marker": {
             "colorbar": {
              "outlinewidth": 0,
              "ticks": ""
             }
            },
            "type": "scattermapbox"
           }
          ],
          "scatterpolar": [
           {
            "marker": {
             "colorbar": {
              "outlinewidth": 0,
              "ticks": ""
             }
            },
            "type": "scatterpolar"
           }
          ],
          "scatterpolargl": [
           {
            "marker": {
             "colorbar": {
              "outlinewidth": 0,
              "ticks": ""
             }
            },
            "type": "scatterpolargl"
           }
          ],
          "scatterternary": [
           {
            "marker": {
             "colorbar": {
              "outlinewidth": 0,
              "ticks": ""
             }
            },
            "type": "scatterternary"
           }
          ],
          "surface": [
           {
            "colorbar": {
             "outlinewidth": 0,
             "ticks": ""
            },
            "colorscale": [
             [
              0,
              "#0d0887"
             ],
             [
              0.1111111111111111,
              "#46039f"
             ],
             [
              0.2222222222222222,
              "#7201a8"
             ],
             [
              0.3333333333333333,
              "#9c179e"
             ],
             [
              0.4444444444444444,
              "#bd3786"
             ],
             [
              0.5555555555555556,
              "#d8576b"
             ],
             [
              0.6666666666666666,
              "#ed7953"
             ],
             [
              0.7777777777777778,
              "#fb9f3a"
             ],
             [
              0.8888888888888888,
              "#fdca26"
             ],
             [
              1,
              "#f0f921"
             ]
            ],
            "type": "surface"
           }
          ],
          "table": [
           {
            "cells": {
             "fill": {
              "color": "#EBF0F8"
             },
             "line": {
              "color": "white"
             }
            },
            "header": {
             "fill": {
              "color": "#C8D4E3"
             },
             "line": {
              "color": "white"
             }
            },
            "type": "table"
           }
          ]
         },
         "layout": {
          "annotationdefaults": {
           "arrowcolor": "#2a3f5f",
           "arrowhead": 0,
           "arrowwidth": 1
          },
          "autotypenumbers": "strict",
          "coloraxis": {
           "colorbar": {
            "outlinewidth": 0,
            "ticks": ""
           }
          },
          "colorscale": {
           "diverging": [
            [
             0,
             "#8e0152"
            ],
            [
             0.1,
             "#c51b7d"
            ],
            [
             0.2,
             "#de77ae"
            ],
            [
             0.3,
             "#f1b6da"
            ],
            [
             0.4,
             "#fde0ef"
            ],
            [
             0.5,
             "#f7f7f7"
            ],
            [
             0.6,
             "#e6f5d0"
            ],
            [
             0.7,
             "#b8e186"
            ],
            [
             0.8,
             "#7fbc41"
            ],
            [
             0.9,
             "#4d9221"
            ],
            [
             1,
             "#276419"
            ]
           ],
           "sequential": [
            [
             0,
             "#0d0887"
            ],
            [
             0.1111111111111111,
             "#46039f"
            ],
            [
             0.2222222222222222,
             "#7201a8"
            ],
            [
             0.3333333333333333,
             "#9c179e"
            ],
            [
             0.4444444444444444,
             "#bd3786"
            ],
            [
             0.5555555555555556,
             "#d8576b"
            ],
            [
             0.6666666666666666,
             "#ed7953"
            ],
            [
             0.7777777777777778,
             "#fb9f3a"
            ],
            [
             0.8888888888888888,
             "#fdca26"
            ],
            [
             1,
             "#f0f921"
            ]
           ],
           "sequentialminus": [
            [
             0,
             "#0d0887"
            ],
            [
             0.1111111111111111,
             "#46039f"
            ],
            [
             0.2222222222222222,
             "#7201a8"
            ],
            [
             0.3333333333333333,
             "#9c179e"
            ],
            [
             0.4444444444444444,
             "#bd3786"
            ],
            [
             0.5555555555555556,
             "#d8576b"
            ],
            [
             0.6666666666666666,
             "#ed7953"
            ],
            [
             0.7777777777777778,
             "#fb9f3a"
            ],
            [
             0.8888888888888888,
             "#fdca26"
            ],
            [
             1,
             "#f0f921"
            ]
           ]
          },
          "colorway": [
           "#636efa",
           "#EF553B",
           "#00cc96",
           "#ab63fa",
           "#FFA15A",
           "#19d3f3",
           "#FF6692",
           "#B6E880",
           "#FF97FF",
           "#FECB52"
          ],
          "font": {
           "color": "#2a3f5f"
          },
          "geo": {
           "bgcolor": "white",
           "lakecolor": "white",
           "landcolor": "#E5ECF6",
           "showlakes": true,
           "showland": true,
           "subunitcolor": "white"
          },
          "hoverlabel": {
           "align": "left"
          },
          "hovermode": "closest",
          "mapbox": {
           "style": "light"
          },
          "paper_bgcolor": "white",
          "plot_bgcolor": "#E5ECF6",
          "polar": {
           "angularaxis": {
            "gridcolor": "white",
            "linecolor": "white",
            "ticks": ""
           },
           "bgcolor": "#E5ECF6",
           "radialaxis": {
            "gridcolor": "white",
            "linecolor": "white",
            "ticks": ""
           }
          },
          "scene": {
           "xaxis": {
            "backgroundcolor": "#E5ECF6",
            "gridcolor": "white",
            "gridwidth": 2,
            "linecolor": "white",
            "showbackground": true,
            "ticks": "",
            "zerolinecolor": "white"
           },
           "yaxis": {
            "backgroundcolor": "#E5ECF6",
            "gridcolor": "white",
            "gridwidth": 2,
            "linecolor": "white",
            "showbackground": true,
            "ticks": "",
            "zerolinecolor": "white"
           },
           "zaxis": {
            "backgroundcolor": "#E5ECF6",
            "gridcolor": "white",
            "gridwidth": 2,
            "linecolor": "white",
            "showbackground": true,
            "ticks": "",
            "zerolinecolor": "white"
           }
          },
          "shapedefaults": {
           "line": {
            "color": "#2a3f5f"
           }
          },
          "ternary": {
           "aaxis": {
            "gridcolor": "white",
            "linecolor": "white",
            "ticks": ""
           },
           "baxis": {
            "gridcolor": "white",
            "linecolor": "white",
            "ticks": ""
           },
           "bgcolor": "#E5ECF6",
           "caxis": {
            "gridcolor": "white",
            "linecolor": "white",
            "ticks": ""
           }
          },
          "title": {
           "x": 0.05
          },
          "xaxis": {
           "automargin": true,
           "gridcolor": "white",
           "linecolor": "white",
           "ticks": "",
           "title": {
            "standoff": 15
           },
           "zerolinecolor": "white",
           "zerolinewidth": 2
          },
          "yaxis": {
           "automargin": true,
           "gridcolor": "white",
           "linecolor": "white",
           "ticks": "",
           "title": {
            "standoff": 15
           },
           "zerolinecolor": "white",
           "zerolinewidth": 2
          }
         }
        },
        "xaxis": {
         "anchor": "y",
         "domain": [
          0,
          1
         ],
         "title": {
          "text": "Age"
         }
        },
        "yaxis": {
         "anchor": "x",
         "domain": [
          0,
          1
         ],
         "title": {
          "text": "Max HR"
         }
        }
       }
      },
      "text/html": [
       "<div>                            <div id=\"53590605-cc56-4463-b317-282ec1c21043\" class=\"plotly-graph-div\" style=\"height:525px; width:100%;\"></div>            <script type=\"text/javascript\">                require([\"plotly\"], function(Plotly) {                    window.PLOTLYENV=window.PLOTLYENV || {};                                    if (document.getElementById(\"53590605-cc56-4463-b317-282ec1c21043\")) {                    Plotly.newPlot(                        \"53590605-cc56-4463-b317-282ec1c21043\",                        [{\"hovertemplate\":\"Age=%{x}\\u003cbr\\u003eMax HR=%{y}\\u003cextra\\u003e\\u003c\\u002fextra\\u003e\",\"legendgroup\":\"\",\"marker\":{\"color\":\"#636efa\",\"opacity\":0.65,\"symbol\":\"circle\"},\"mode\":\"markers\",\"name\":\"\",\"orientation\":\"v\",\"showlegend\":false,\"x\":[70,67,57,64,74,65,56,59,60,63,59,53,44,61,57,71,46,53,64,40,67,48,43,47,54,48,46,51,58,71,57,66,37,59,50,48,61,59,42,48,40,62,44,46,59,58,49,44,66,65,42,52,65,63,45,41,61,60,59,62,57,51,44,60,63,57,51,58,44,47,61,57,70,76,67,45,45,39,42,56,58,35,58,41,57,42,62,59,41,50,59,61,54,54,52,47,66,58,64,50,44,67,49,57,63,48,51,60,59,45,55,41,60,54,42,49,46,56,66,56,49,54,57,65,54,54,62,52,52,60,63,66,42,64,54,46,67,56,34,57,64,59,50,51,54,53,52,40,58,41,41,50,54,64,51,46,55,45,56,66,38,62,55,58,43,64,50,53,45,65,69,69,67,68,34,62,51,46,67,50,42,56,41,42,53,43,56,52,62,70,54,70,54,35,48,55,58,54,69,77,68,58,60,51,55,52,60,58,64,37,59,51,43,58,29,41,63,51,54,44,54,65,57,63,35,41,62,43,58,52,61,39,45,52,62,62,53,43,47,52,68,39,53,62,51,60,65,65,60,60,54,44,44,51,59,71,61,55,64,43,58,60,58,49,48,52,44,56,57,67],\"xaxis\":\"x\",\"y\":[109,160,141,105,121,140,142,142,170,154,161,111,180,145,159,125,120,155,144,178,129,180,181,143,159,139,152,157,165,130,150,138,170,140,126,150,138,125,150,186,181,163,179,156,134,165,126,177,120,114,125,184,157,179,175,168,125,96,143,103,173,142,169,171,150,112,186,152,149,152,140,163,143,116,142,147,148,179,173,178,105,130,111,168,126,178,140,145,163,128,164,169,109,108,168,118,151,156,133,162,175,71,163,124,147,166,143,157,162,138,117,153,161,170,162,162,144,133,114,103,139,116,88,151,152,163,99,169,158,160,169,132,178,96,165,160,172,144,192,168,132,182,163,125,195,95,160,114,173,172,179,158,167,122,149,172,111,170,162,165,182,154,155,130,161,154,159,152,152,174,131,146,125,115,174,106,122,147,163,163,194,150,158,122,173,162,105,147,157,112,160,125,156,156,175,161,122,158,151,162,151,171,141,173,145,178,160,154,131,187,159,166,165,131,202,172,172,154,147,170,126,127,174,132,182,132,97,136,162,190,146,140,185,161,146,145,160,120,156,172,150,182,143,160,142,144,158,148,155,142,113,188,153,123,157,162,137,132,158,171,172,132,160,171,168,162,173,153,148,108],\"yaxis\":\"y\",\"type\":\"scatter\"},{\"hovertemplate\":\"\\u003cb\\u003eOLS trendline\\u003c\\u002fb\\u003e\\u003cbr\\u003eMax HR = -1.02289 * Age + 205.357\\u003cbr\\u003eR\\u003csup\\u003e2\\u003c\\u002fsup\\u003e=0.161777\\u003cbr\\u003e\\u003cbr\\u003eAge=%{x}\\u003cbr\\u003eMax HR=%{y} \\u003cb\\u003e(trend)\\u003c\\u002fb\\u003e\\u003cextra\\u003e\\u003c\\u002fextra\\u003e\",\"legendgroup\":\"\",\"line\":{\"color\":\"darkblue\"},\"marker\":{\"color\":\"#636efa\",\"symbol\":\"circle\"},\"mode\":\"lines\",\"name\":\"\",\"showlegend\":false,\"x\":[29,34,34,35,35,35,37,37,38,39,39,39,40,40,40,41,41,41,41,41,41,41,41,41,42,42,42,42,42,42,42,42,43,43,43,43,43,43,43,44,44,44,44,44,44,44,44,44,44,45,45,45,45,45,45,45,46,46,46,46,46,46,46,47,47,47,47,48,48,48,48,48,48,48,49,49,49,49,49,50,50,50,50,50,50,50,51,51,51,51,51,51,51,51,51,51,51,51,52,52,52,52,52,52,52,52,52,52,52,53,53,53,53,53,53,53,54,54,54,54,54,54,54,54,54,54,54,54,54,54,54,54,55,55,55,55,55,55,56,56,56,56,56,56,56,56,56,57,57,57,57,57,57,57,57,57,57,57,57,58,58,58,58,58,58,58,58,58,58,58,58,58,58,58,59,59,59,59,59,59,59,59,59,59,59,59,60,60,60,60,60,60,60,60,60,60,60,60,61,61,61,61,61,61,61,62,62,62,62,62,62,62,62,62,62,62,63,63,63,63,63,63,63,64,64,64,64,64,64,64,64,64,65,65,65,65,65,65,65,65,66,66,66,66,66,66,67,67,67,67,67,67,67,67,68,68,68,69,69,69,70,70,70,70,71,71,71,74,76,77],\"xaxis\":\"x\",\"y\":[175.6933807639981,170.57891097640567,170.57891097640567,169.55601701888716,169.55601701888716,169.55601701888716,167.51022910385018,167.51022910385018,166.4873351463317,165.4644411888132,165.4644411888132,165.4644411888132,164.44154723129472,164.44154723129472,164.44154723129472,163.41865327377621,163.41865327377621,163.41865327377621,163.41865327377621,163.41865327377621,163.41865327377621,163.41865327377621,163.41865327377621,163.41865327377621,162.39575931625774,162.39575931625774,162.39575931625774,162.39575931625774,162.39575931625774,162.39575931625774,162.39575931625774,162.39575931625774,161.37286535873926,161.37286535873926,161.37286535873926,161.37286535873926,161.37286535873926,161.37286535873926,161.37286535873926,160.34997140122076,160.34997140122076,160.34997140122076,160.34997140122076,160.34997140122076,160.34997140122076,160.34997140122076,160.34997140122076,160.34997140122076,160.34997140122076,159.32707744370225,159.32707744370225,159.32707744370225,159.32707744370225,159.32707744370225,159.32707744370225,159.32707744370225,158.30418348618377,158.30418348618377,158.30418348618377,158.30418348618377,158.30418348618377,158.30418348618377,158.30418348618377,157.2812895286653,157.2812895286653,157.2812895286653,157.2812895286653,156.2583955711468,156.2583955711468,156.2583955711468,156.2583955711468,156.2583955711468,156.2583955711468,156.2583955711468,155.23550161362832,155.23550161362832,155.23550161362832,155.23550161362832,155.23550161362832,154.2126076561098,154.2126076561098,154.2126076561098,154.2126076561098,154.2126076561098,154.2126076561098,154.2126076561098,153.18971369859133,153.18971369859133,153.18971369859133,153.18971369859133,153.18971369859133,153.18971369859133,153.18971369859133,153.18971369859133,153.18971369859133,153.18971369859133,153.18971369859133,153.18971369859133,152.16681974107286,152.16681974107286,152.16681974107286,152.16681974107286,152.16681974107286,152.16681974107286,152.16681974107286,152.16681974107286,152.16681974107286,152.16681974107286,152.16681974107286,151.14392578355435,151.14392578355435,151.14392578355435,151.14392578355435,151.14392578355435,151.14392578355435,151.14392578355435,150.12103182603585,150.12103182603585,150.12103182603585,150.12103182603585,150.12103182603585,150.12103182603585,150.12103182603585,150.12103182603585,150.12103182603585,150.12103182603585,150.12103182603585,150.12103182603585,150.12103182603585,150.12103182603585,150.12103182603585,150.12103182603585,149.09813786851737,149.09813786851737,149.09813786851737,149.09813786851737,149.09813786851737,149.09813786851737,148.0752439109989,148.0752439109989,148.0752439109989,148.0752439109989,148.0752439109989,148.0752439109989,148.0752439109989,148.0752439109989,148.0752439109989,147.0523499534804,147.0523499534804,147.0523499534804,147.0523499534804,147.0523499534804,147.0523499534804,147.0523499534804,147.0523499534804,147.0523499534804,147.0523499534804,147.0523499534804,147.0523499534804,146.0294559959619,146.0294559959619,146.0294559959619,146.0294559959619,146.0294559959619,146.0294559959619,146.0294559959619,146.0294559959619,146.0294559959619,146.0294559959619,146.0294559959619,146.0294559959619,146.0294559959619,146.0294559959619,146.0294559959619,145.0065620384434,145.0065620384434,145.0065620384434,145.0065620384434,145.0065620384434,145.0065620384434,145.0065620384434,145.0065620384434,145.0065620384434,145.0065620384434,145.0065620384434,145.0065620384434,143.98366808092493,143.98366808092493,143.98366808092493,143.98366808092493,143.98366808092493,143.98366808092493,143.98366808092493,143.98366808092493,143.98366808092493,143.98366808092493,143.98366808092493,143.98366808092493,142.96077412340642,142.96077412340642,142.96077412340642,142.96077412340642,142.96077412340642,142.96077412340642,142.96077412340642,141.93788016588795,141.93788016588795,141.93788016588795,141.93788016588795,141.93788016588795,141.93788016588795,141.93788016588795,141.93788016588795,141.93788016588795,141.93788016588795,141.93788016588795,140.91498620836944,140.91498620836944,140.91498620836944,140.91498620836944,140.91498620836944,140.91498620836944,140.91498620836944,139.89209225085096,139.89209225085096,139.89209225085096,139.89209225085096,139.89209225085096,139.89209225085096,139.89209225085096,139.89209225085096,139.89209225085096,138.8691982933325,138.8691982933325,138.8691982933325,138.8691982933325,138.8691982933325,138.8691982933325,138.8691982933325,138.8691982933325,137.84630433581398,137.84630433581398,137.84630433581398,137.84630433581398,137.84630433581398,137.84630433581398,136.82341037829548,136.82341037829548,136.82341037829548,136.82341037829548,136.82341037829548,136.82341037829548,136.82341037829548,136.82341037829548,135.800516420777,135.800516420777,135.800516420777,134.77762246325852,134.77762246325852,134.77762246325852,133.75472850574005,133.75472850574005,133.75472850574005,133.75472850574005,132.73183454822154,132.73183454822154,132.73183454822154,129.66315267566608,127.61736476062909,126.5944708031106],\"yaxis\":\"y\",\"type\":\"scatter\"}],                        {\"template\":{\"data\":{\"histogram2dcontour\":[{\"type\":\"histogram2dcontour\",\"colorbar\":{\"outlinewidth\":0,\"ticks\":\"\"},\"colorscale\":[[0.0,\"#0d0887\"],[0.1111111111111111,\"#46039f\"],[0.2222222222222222,\"#7201a8\"],[0.3333333333333333,\"#9c179e\"],[0.4444444444444444,\"#bd3786\"],[0.5555555555555556,\"#d8576b\"],[0.6666666666666666,\"#ed7953\"],[0.7777777777777778,\"#fb9f3a\"],[0.8888888888888888,\"#fdca26\"],[1.0,\"#f0f921\"]]}],\"choropleth\":[{\"type\":\"choropleth\",\"colorbar\":{\"outlinewidth\":0,\"ticks\":\"\"}}],\"histogram2d\":[{\"type\":\"histogram2d\",\"colorbar\":{\"outlinewidth\":0,\"ticks\":\"\"},\"colorscale\":[[0.0,\"#0d0887\"],[0.1111111111111111,\"#46039f\"],[0.2222222222222222,\"#7201a8\"],[0.3333333333333333,\"#9c179e\"],[0.4444444444444444,\"#bd3786\"],[0.5555555555555556,\"#d8576b\"],[0.6666666666666666,\"#ed7953\"],[0.7777777777777778,\"#fb9f3a\"],[0.8888888888888888,\"#fdca26\"],[1.0,\"#f0f921\"]]}],\"heatmap\":[{\"type\":\"heatmap\",\"colorbar\":{\"outlinewidth\":0,\"ticks\":\"\"},\"colorscale\":[[0.0,\"#0d0887\"],[0.1111111111111111,\"#46039f\"],[0.2222222222222222,\"#7201a8\"],[0.3333333333333333,\"#9c179e\"],[0.4444444444444444,\"#bd3786\"],[0.5555555555555556,\"#d8576b\"],[0.6666666666666666,\"#ed7953\"],[0.7777777777777778,\"#fb9f3a\"],[0.8888888888888888,\"#fdca26\"],[1.0,\"#f0f921\"]]}],\"heatmapgl\":[{\"type\":\"heatmapgl\",\"colorbar\":{\"outlinewidth\":0,\"ticks\":\"\"},\"colorscale\":[[0.0,\"#0d0887\"],[0.1111111111111111,\"#46039f\"],[0.2222222222222222,\"#7201a8\"],[0.3333333333333333,\"#9c179e\"],[0.4444444444444444,\"#bd3786\"],[0.5555555555555556,\"#d8576b\"],[0.6666666666666666,\"#ed7953\"],[0.7777777777777778,\"#fb9f3a\"],[0.8888888888888888,\"#fdca26\"],[1.0,\"#f0f921\"]]}],\"contourcarpet\":[{\"type\":\"contourcarpet\",\"colorbar\":{\"outlinewidth\":0,\"ticks\":\"\"}}],\"contour\":[{\"type\":\"contour\",\"colorbar\":{\"outlinewidth\":0,\"ticks\":\"\"},\"colorscale\":[[0.0,\"#0d0887\"],[0.1111111111111111,\"#46039f\"],[0.2222222222222222,\"#7201a8\"],[0.3333333333333333,\"#9c179e\"],[0.4444444444444444,\"#bd3786\"],[0.5555555555555556,\"#d8576b\"],[0.6666666666666666,\"#ed7953\"],[0.7777777777777778,\"#fb9f3a\"],[0.8888888888888888,\"#fdca26\"],[1.0,\"#f0f921\"]]}],\"surface\":[{\"type\":\"surface\",\"colorbar\":{\"outlinewidth\":0,\"ticks\":\"\"},\"colorscale\":[[0.0,\"#0d0887\"],[0.1111111111111111,\"#46039f\"],[0.2222222222222222,\"#7201a8\"],[0.3333333333333333,\"#9c179e\"],[0.4444444444444444,\"#bd3786\"],[0.5555555555555556,\"#d8576b\"],[0.6666666666666666,\"#ed7953\"],[0.7777777777777778,\"#fb9f3a\"],[0.8888888888888888,\"#fdca26\"],[1.0,\"#f0f921\"]]}],\"mesh3d\":[{\"type\":\"mesh3d\",\"colorbar\":{\"outlinewidth\":0,\"ticks\":\"\"}}],\"scatter\":[{\"fillpattern\":{\"fillmode\":\"overlay\",\"size\":10,\"solidity\":0.2},\"type\":\"scatter\"}],\"parcoords\":[{\"type\":\"parcoords\",\"line\":{\"colorbar\":{\"outlinewidth\":0,\"ticks\":\"\"}}}],\"scatterpolargl\":[{\"type\":\"scatterpolargl\",\"marker\":{\"colorbar\":{\"outlinewidth\":0,\"ticks\":\"\"}}}],\"bar\":[{\"error_x\":{\"color\":\"#2a3f5f\"},\"error_y\":{\"color\":\"#2a3f5f\"},\"marker\":{\"line\":{\"color\":\"#E5ECF6\",\"width\":0.5},\"pattern\":{\"fillmode\":\"overlay\",\"size\":10,\"solidity\":0.2}},\"type\":\"bar\"}],\"scattergeo\":[{\"type\":\"scattergeo\",\"marker\":{\"colorbar\":{\"outlinewidth\":0,\"ticks\":\"\"}}}],\"scatterpolar\":[{\"type\":\"scatterpolar\",\"marker\":{\"colorbar\":{\"outlinewidth\":0,\"ticks\":\"\"}}}],\"histogram\":[{\"marker\":{\"pattern\":{\"fillmode\":\"overlay\",\"size\":10,\"solidity\":0.2}},\"type\":\"histogram\"}],\"scattergl\":[{\"type\":\"scattergl\",\"marker\":{\"colorbar\":{\"outlinewidth\":0,\"ticks\":\"\"}}}],\"scatter3d\":[{\"type\":\"scatter3d\",\"line\":{\"colorbar\":{\"outlinewidth\":0,\"ticks\":\"\"}},\"marker\":{\"colorbar\":{\"outlinewidth\":0,\"ticks\":\"\"}}}],\"scattermapbox\":[{\"type\":\"scattermapbox\",\"marker\":{\"colorbar\":{\"outlinewidth\":0,\"ticks\":\"\"}}}],\"scatterternary\":[{\"type\":\"scatterternary\",\"marker\":{\"colorbar\":{\"outlinewidth\":0,\"ticks\":\"\"}}}],\"scattercarpet\":[{\"type\":\"scattercarpet\",\"marker\":{\"colorbar\":{\"outlinewidth\":0,\"ticks\":\"\"}}}],\"carpet\":[{\"aaxis\":{\"endlinecolor\":\"#2a3f5f\",\"gridcolor\":\"white\",\"linecolor\":\"white\",\"minorgridcolor\":\"white\",\"startlinecolor\":\"#2a3f5f\"},\"baxis\":{\"endlinecolor\":\"#2a3f5f\",\"gridcolor\":\"white\",\"linecolor\":\"white\",\"minorgridcolor\":\"white\",\"startlinecolor\":\"#2a3f5f\"},\"type\":\"carpet\"}],\"table\":[{\"cells\":{\"fill\":{\"color\":\"#EBF0F8\"},\"line\":{\"color\":\"white\"}},\"header\":{\"fill\":{\"color\":\"#C8D4E3\"},\"line\":{\"color\":\"white\"}},\"type\":\"table\"}],\"barpolar\":[{\"marker\":{\"line\":{\"color\":\"#E5ECF6\",\"width\":0.5},\"pattern\":{\"fillmode\":\"overlay\",\"size\":10,\"solidity\":0.2}},\"type\":\"barpolar\"}],\"pie\":[{\"automargin\":true,\"type\":\"pie\"}]},\"layout\":{\"autotypenumbers\":\"strict\",\"colorway\":[\"#636efa\",\"#EF553B\",\"#00cc96\",\"#ab63fa\",\"#FFA15A\",\"#19d3f3\",\"#FF6692\",\"#B6E880\",\"#FF97FF\",\"#FECB52\"],\"font\":{\"color\":\"#2a3f5f\"},\"hovermode\":\"closest\",\"hoverlabel\":{\"align\":\"left\"},\"paper_bgcolor\":\"white\",\"plot_bgcolor\":\"#E5ECF6\",\"polar\":{\"bgcolor\":\"#E5ECF6\",\"angularaxis\":{\"gridcolor\":\"white\",\"linecolor\":\"white\",\"ticks\":\"\"},\"radialaxis\":{\"gridcolor\":\"white\",\"linecolor\":\"white\",\"ticks\":\"\"}},\"ternary\":{\"bgcolor\":\"#E5ECF6\",\"aaxis\":{\"gridcolor\":\"white\",\"linecolor\":\"white\",\"ticks\":\"\"},\"baxis\":{\"gridcolor\":\"white\",\"linecolor\":\"white\",\"ticks\":\"\"},\"caxis\":{\"gridcolor\":\"white\",\"linecolor\":\"white\",\"ticks\":\"\"}},\"coloraxis\":{\"colorbar\":{\"outlinewidth\":0,\"ticks\":\"\"}},\"colorscale\":{\"sequential\":[[0.0,\"#0d0887\"],[0.1111111111111111,\"#46039f\"],[0.2222222222222222,\"#7201a8\"],[0.3333333333333333,\"#9c179e\"],[0.4444444444444444,\"#bd3786\"],[0.5555555555555556,\"#d8576b\"],[0.6666666666666666,\"#ed7953\"],[0.7777777777777778,\"#fb9f3a\"],[0.8888888888888888,\"#fdca26\"],[1.0,\"#f0f921\"]],\"sequentialminus\":[[0.0,\"#0d0887\"],[0.1111111111111111,\"#46039f\"],[0.2222222222222222,\"#7201a8\"],[0.3333333333333333,\"#9c179e\"],[0.4444444444444444,\"#bd3786\"],[0.5555555555555556,\"#d8576b\"],[0.6666666666666666,\"#ed7953\"],[0.7777777777777778,\"#fb9f3a\"],[0.8888888888888888,\"#fdca26\"],[1.0,\"#f0f921\"]],\"diverging\":[[0,\"#8e0152\"],[0.1,\"#c51b7d\"],[0.2,\"#de77ae\"],[0.3,\"#f1b6da\"],[0.4,\"#fde0ef\"],[0.5,\"#f7f7f7\"],[0.6,\"#e6f5d0\"],[0.7,\"#b8e186\"],[0.8,\"#7fbc41\"],[0.9,\"#4d9221\"],[1,\"#276419\"]]},\"xaxis\":{\"gridcolor\":\"white\",\"linecolor\":\"white\",\"ticks\":\"\",\"title\":{\"standoff\":15},\"zerolinecolor\":\"white\",\"automargin\":true,\"zerolinewidth\":2},\"yaxis\":{\"gridcolor\":\"white\",\"linecolor\":\"white\",\"ticks\":\"\",\"title\":{\"standoff\":15},\"zerolinecolor\":\"white\",\"automargin\":true,\"zerolinewidth\":2},\"scene\":{\"xaxis\":{\"backgroundcolor\":\"#E5ECF6\",\"gridcolor\":\"white\",\"linecolor\":\"white\",\"showbackground\":true,\"ticks\":\"\",\"zerolinecolor\":\"white\",\"gridwidth\":2},\"yaxis\":{\"backgroundcolor\":\"#E5ECF6\",\"gridcolor\":\"white\",\"linecolor\":\"white\",\"showbackground\":true,\"ticks\":\"\",\"zerolinecolor\":\"white\",\"gridwidth\":2},\"zaxis\":{\"backgroundcolor\":\"#E5ECF6\",\"gridcolor\":\"white\",\"linecolor\":\"white\",\"showbackground\":true,\"ticks\":\"\",\"zerolinecolor\":\"white\",\"gridwidth\":2}},\"shapedefaults\":{\"line\":{\"color\":\"#2a3f5f\"}},\"annotationdefaults\":{\"arrowcolor\":\"#2a3f5f\",\"arrowhead\":0,\"arrowwidth\":1},\"geo\":{\"bgcolor\":\"white\",\"landcolor\":\"#E5ECF6\",\"subunitcolor\":\"white\",\"showland\":true,\"showlakes\":true,\"lakecolor\":\"white\"},\"title\":{\"x\":0.05},\"mapbox\":{\"style\":\"light\"}}},\"xaxis\":{\"anchor\":\"y\",\"domain\":[0.0,1.0],\"title\":{\"text\":\"Age\"}},\"yaxis\":{\"anchor\":\"x\",\"domain\":[0.0,1.0],\"title\":{\"text\":\"Max HR\"}},\"legend\":{\"tracegroupgap\":0},\"margin\":{\"t\":60}},                        {\"responsive\": true}                    ).then(function(){\n",
       "                            \n",
       "var gd = document.getElementById('53590605-cc56-4463-b317-282ec1c21043');\n",
       "var x = new MutationObserver(function (mutations, observer) {{\n",
       "        var display = window.getComputedStyle(gd).display;\n",
       "        if (!display || display === 'none') {{\n",
       "            console.log([gd, 'removed!']);\n",
       "            Plotly.purge(gd);\n",
       "            observer.disconnect();\n",
       "        }}\n",
       "}});\n",
       "\n",
       "// Listen for the removal of the full notebook cells\n",
       "var notebookContainer = gd.closest('#notebook-container');\n",
       "if (notebookContainer) {{\n",
       "    x.observe(notebookContainer, {childList: true});\n",
       "}}\n",
       "\n",
       "// Listen for the clearing of the current output cell\n",
       "var outputEl = gd.closest('.output');\n",
       "if (outputEl) {{\n",
       "    x.observe(outputEl, {childList: true});\n",
       "}}\n",
       "\n",
       "                        })                };                });            </script>        </div>"
      ]
     },
     "metadata": {},
     "output_type": "display_data"
    }
   ],
   "source": [
    "#Basic linear regression using plotly:\n",
    "fig2 = px.scatter(\n",
    "    dataframe, \n",
    "    x='Age', \n",
    "    y='Max HR', \n",
    "    opacity=0.65, \n",
    "    trendline='ols', \n",
    "    trendline_color_override='darkblue')\n",
    "fig2.show()"
   ]
  },
  {
   "cell_type": "code",
   "execution_count": null,
   "id": "1a83aace",
   "metadata": {},
   "outputs": [],
   "source": []
  }
 ],
 "metadata": {
  "kernelspec": {
   "display_name": "Python 3 (ipykernel)",
   "language": "python",
   "name": "python3"
  },
  "language_info": {
   "codemirror_mode": {
    "name": "ipython",
    "version": 3
   },
   "file_extension": ".py",
   "mimetype": "text/x-python",
   "name": "python",
   "nbconvert_exporter": "python",
   "pygments_lexer": "ipython3",
   "version": "3.10.9"
  }
 },
 "nbformat": 4,
 "nbformat_minor": 5
}
